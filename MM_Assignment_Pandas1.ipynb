{
  "cells": [
    {
      "cell_type": "markdown",
      "metadata": {
        "id": "view-in-github",
        "colab_type": "text"
      },
      "source": [
        "<a href=\"https://colab.research.google.com/github/Madihah04/test-colab/blob/main/MM_Assignment_Pandas1.ipynb\" target=\"_parent\"><img src=\"https://colab.research.google.com/assets/colab-badge.svg\" alt=\"Open In Colab\"/></a>"
      ]
    },
    {
      "cell_type": "markdown",
      "source": [
        "# **Project Title - Election Result 2018** <a href=\"https://www.utm.my\" target=\"_parent\"><img src=\"https://colab.research.google.com/assets/colab-badge.svg\" alt=\"Open In Colab\"/></a>\n",
        "\n",
        "###**Group Members:**\n",
        "\n",
        "#####MAIZATUL AFRINA SAFIAH BINTI SAIFUL AZWAN (A20EC0204)\n",
        "\n",
        "######MADIHAH BINTI CHE ZABRI (A20EC0074)"
      ],
      "metadata": {
        "id": "X4olKwiezjwu"
      }
    },
    {
      "cell_type": "markdown",
      "metadata": {
        "id": "7F8DQl5dVJJ0"
      },
      "source": [
        "\n",
        "\n",
        "In 2018, Malysia had a general election to elect members of the 'Dewan Rakyat' and the members of Parliament in order to determine the future of the nation, economy and the standard of living of the people. This dataset can be found on Kaggle where there is a project entitled Malaysia GE14 Election Results. \n"
      ]
    },
    {
      "cell_type": "markdown",
      "source": [
        "This dataset contains 1,646 rows (records) and 12 columns which includes:\n",
        "\n",
        "\n",
        "\n",
        "1.   Percentage (%) of total votes\n",
        "2.   Votes for Candidate\n",
        "3.   Candidate Party\n",
        "\n",
        "and others.\n",
        "\n",
        "\n"
      ],
      "metadata": {
        "id": "b3HWrQk3nVwg"
      }
    },
    {
      "cell_type": "markdown",
      "metadata": {
        "id": "LxWzVndBVJJ1"
      },
      "source": [
        "# Downloading the Dataset"
      ]
    },
    {
      "cell_type": "markdown",
      "metadata": {
        "id": "oHRcyidmVJJ1"
      },
      "source": [
        "First of all, before downloading and reading the dataset, few libraries such as pandas, numpy, seaborn and matplotlib need to be imported. \n",
        "\n",
        "\n",
        "**Take note:** seaborn and matplotlib will be used for visualisation purposes."
      ]
    },
    {
      "cell_type": "code",
      "source": [
        "#Import libraries\n",
        "import pandas as pd, numpy as np\n",
        "%matplotlib inline\n",
        "%pylab inline\n",
        "import seaborn  as sns \n",
        "import matplotlib.pyplot as plt"
      ],
      "metadata": {
        "id": "W6HPD4KHwP9r",
        "colab": {
          "base_uri": "https://localhost:8080/"
        },
        "outputId": "5413c25b-c62c-461f-b67d-37146b5abab5"
      },
      "execution_count": 1,
      "outputs": [
        {
          "output_type": "stream",
          "name": "stdout",
          "text": [
            "Populating the interactive namespace from numpy and matplotlib\n"
          ]
        }
      ]
    },
    {
      "cell_type": "markdown",
      "metadata": {
        "id": "gBzC1JheVJJ5"
      },
      "source": [
        "Before loading the dataset into a dataframe, upload it first on Github then copy the link and paste it here.\n",
        "\n",
        "Then, start to load all the data using pandas command and so on."
      ]
    },
    {
      "cell_type": "code",
      "execution_count": 2,
      "metadata": {
        "id": "_s6ZSPWYVJJ2",
        "colab": {
          "base_uri": "https://localhost:8080/",
          "height": 537
        },
        "outputId": "01acc620-c7be-477a-86c0-02dbee860fa9"
      },
      "outputs": [
        {
          "output_type": "execute_result",
          "data": {
            "text/plain": [
              "      State Seat ID     Seat Name                 Candidate Name  \\\n",
              "0     Johor    N.01   BULOH KASAP                   ZAHARI SARIP   \n",
              "1     Johor    N.01   BULOH KASAP            NORSAMSU MOHD YUSOF   \n",
              "2     Johor    N.02      JEMENTAH                 CHIAM YOK MENG   \n",
              "3     Johor    N.02      JEMENTAH                 TAN CHEN CHOON   \n",
              "4     Johor    N.02      JEMENTAH  KHAIRUL FAIZI BIN AHMAD KAMIL   \n",
              "...     ...     ...           ...                            ...   \n",
              "1641  Sabah    N.59  TANJONG BATU                  ISMAIL SENANG   \n",
              "1642  Sabah    N.60       SEBATIK                 YUSRI HJ YUNUS   \n",
              "1643  Sabah    N.60       SEBATIK             USTAZ ROSLAN RAMLI   \n",
              "1644  Sabah    N.60       SEBATIK   DATUK HJ. ABD MUIS HJ. PICHO   \n",
              "1645  Sabah    N.60       SEBATIK          HASSAN A GANI PG AMIR   \n",
              "\n",
              "     Candidate Party  Votes for Candidate  Total Votes Cast % of total Votes  \\\n",
              "0                 BN               9186.0             17495           52.51%   \n",
              "1                PKR               8309.0             17495           47.49%   \n",
              "2                 BN               9335.0             27657           33.75%   \n",
              "3                PKR              16336.0             27657           59.07%   \n",
              "4                PAS               1986.0             27657            7.18%   \n",
              "...              ...                  ...               ...              ...   \n",
              "1641         WARISAN               6552.0             16767           39.08%   \n",
              "1642            PPRS                 38.0              5285            0.72%   \n",
              "1643             PAS                504.0              5285            9.54%   \n",
              "1644              BN               2468.0              5285           46.70%   \n",
              "1645         WARISAN               2275.0              5285           43.05%   \n",
              "\n",
              "      Candidate Win Gender Status        Pekerjaan  \n",
              "0                 1      L    MNG                0  \n",
              "1                 0      L    KLH                0  \n",
              "2                 0      L    KLH                0  \n",
              "3                 1      L    MNG                0  \n",
              "4                 0      L     HD                0  \n",
              "...             ...    ...    ...              ...  \n",
              "1641              0      L    KLH  BEKERJA SENDIRI  \n",
              "1642              0      L     HD                0  \n",
              "1643              0      L     HD                0  \n",
              "1644              1      L    MNG            TIADA  \n",
              "1645              0      L    KLH  BEKERJA SENDIRI  \n",
              "\n",
              "[1646 rows x 12 columns]"
            ],
            "text/html": [
              "\n",
              "  <div id=\"df-de41c076-d5d7-49ca-88bc-857e89491b0c\">\n",
              "    <div class=\"colab-df-container\">\n",
              "      <div>\n",
              "<style scoped>\n",
              "    .dataframe tbody tr th:only-of-type {\n",
              "        vertical-align: middle;\n",
              "    }\n",
              "\n",
              "    .dataframe tbody tr th {\n",
              "        vertical-align: top;\n",
              "    }\n",
              "\n",
              "    .dataframe thead th {\n",
              "        text-align: right;\n",
              "    }\n",
              "</style>\n",
              "<table border=\"1\" class=\"dataframe\">\n",
              "  <thead>\n",
              "    <tr style=\"text-align: right;\">\n",
              "      <th></th>\n",
              "      <th>State</th>\n",
              "      <th>Seat ID</th>\n",
              "      <th>Seat Name</th>\n",
              "      <th>Candidate Name</th>\n",
              "      <th>Candidate Party</th>\n",
              "      <th>Votes for Candidate</th>\n",
              "      <th>Total Votes Cast</th>\n",
              "      <th>% of total Votes</th>\n",
              "      <th>Candidate Win</th>\n",
              "      <th>Gender</th>\n",
              "      <th>Status</th>\n",
              "      <th>Pekerjaan</th>\n",
              "    </tr>\n",
              "  </thead>\n",
              "  <tbody>\n",
              "    <tr>\n",
              "      <th>0</th>\n",
              "      <td>Johor</td>\n",
              "      <td>N.01</td>\n",
              "      <td>BULOH KASAP</td>\n",
              "      <td>ZAHARI SARIP</td>\n",
              "      <td>BN</td>\n",
              "      <td>9186.0</td>\n",
              "      <td>17495</td>\n",
              "      <td>52.51%</td>\n",
              "      <td>1</td>\n",
              "      <td>L</td>\n",
              "      <td>MNG</td>\n",
              "      <td>0</td>\n",
              "    </tr>\n",
              "    <tr>\n",
              "      <th>1</th>\n",
              "      <td>Johor</td>\n",
              "      <td>N.01</td>\n",
              "      <td>BULOH KASAP</td>\n",
              "      <td>NORSAMSU MOHD YUSOF</td>\n",
              "      <td>PKR</td>\n",
              "      <td>8309.0</td>\n",
              "      <td>17495</td>\n",
              "      <td>47.49%</td>\n",
              "      <td>0</td>\n",
              "      <td>L</td>\n",
              "      <td>KLH</td>\n",
              "      <td>0</td>\n",
              "    </tr>\n",
              "    <tr>\n",
              "      <th>2</th>\n",
              "      <td>Johor</td>\n",
              "      <td>N.02</td>\n",
              "      <td>JEMENTAH</td>\n",
              "      <td>CHIAM YOK MENG</td>\n",
              "      <td>BN</td>\n",
              "      <td>9335.0</td>\n",
              "      <td>27657</td>\n",
              "      <td>33.75%</td>\n",
              "      <td>0</td>\n",
              "      <td>L</td>\n",
              "      <td>KLH</td>\n",
              "      <td>0</td>\n",
              "    </tr>\n",
              "    <tr>\n",
              "      <th>3</th>\n",
              "      <td>Johor</td>\n",
              "      <td>N.02</td>\n",
              "      <td>JEMENTAH</td>\n",
              "      <td>TAN CHEN CHOON</td>\n",
              "      <td>PKR</td>\n",
              "      <td>16336.0</td>\n",
              "      <td>27657</td>\n",
              "      <td>59.07%</td>\n",
              "      <td>1</td>\n",
              "      <td>L</td>\n",
              "      <td>MNG</td>\n",
              "      <td>0</td>\n",
              "    </tr>\n",
              "    <tr>\n",
              "      <th>4</th>\n",
              "      <td>Johor</td>\n",
              "      <td>N.02</td>\n",
              "      <td>JEMENTAH</td>\n",
              "      <td>KHAIRUL FAIZI BIN AHMAD KAMIL</td>\n",
              "      <td>PAS</td>\n",
              "      <td>1986.0</td>\n",
              "      <td>27657</td>\n",
              "      <td>7.18%</td>\n",
              "      <td>0</td>\n",
              "      <td>L</td>\n",
              "      <td>HD</td>\n",
              "      <td>0</td>\n",
              "    </tr>\n",
              "    <tr>\n",
              "      <th>...</th>\n",
              "      <td>...</td>\n",
              "      <td>...</td>\n",
              "      <td>...</td>\n",
              "      <td>...</td>\n",
              "      <td>...</td>\n",
              "      <td>...</td>\n",
              "      <td>...</td>\n",
              "      <td>...</td>\n",
              "      <td>...</td>\n",
              "      <td>...</td>\n",
              "      <td>...</td>\n",
              "      <td>...</td>\n",
              "    </tr>\n",
              "    <tr>\n",
              "      <th>1641</th>\n",
              "      <td>Sabah</td>\n",
              "      <td>N.59</td>\n",
              "      <td>TANJONG BATU</td>\n",
              "      <td>ISMAIL SENANG</td>\n",
              "      <td>WARISAN</td>\n",
              "      <td>6552.0</td>\n",
              "      <td>16767</td>\n",
              "      <td>39.08%</td>\n",
              "      <td>0</td>\n",
              "      <td>L</td>\n",
              "      <td>KLH</td>\n",
              "      <td>BEKERJA SENDIRI</td>\n",
              "    </tr>\n",
              "    <tr>\n",
              "      <th>1642</th>\n",
              "      <td>Sabah</td>\n",
              "      <td>N.60</td>\n",
              "      <td>SEBATIK</td>\n",
              "      <td>YUSRI HJ YUNUS</td>\n",
              "      <td>PPRS</td>\n",
              "      <td>38.0</td>\n",
              "      <td>5285</td>\n",
              "      <td>0.72%</td>\n",
              "      <td>0</td>\n",
              "      <td>L</td>\n",
              "      <td>HD</td>\n",
              "      <td>0</td>\n",
              "    </tr>\n",
              "    <tr>\n",
              "      <th>1643</th>\n",
              "      <td>Sabah</td>\n",
              "      <td>N.60</td>\n",
              "      <td>SEBATIK</td>\n",
              "      <td>USTAZ ROSLAN RAMLI</td>\n",
              "      <td>PAS</td>\n",
              "      <td>504.0</td>\n",
              "      <td>5285</td>\n",
              "      <td>9.54%</td>\n",
              "      <td>0</td>\n",
              "      <td>L</td>\n",
              "      <td>HD</td>\n",
              "      <td>0</td>\n",
              "    </tr>\n",
              "    <tr>\n",
              "      <th>1644</th>\n",
              "      <td>Sabah</td>\n",
              "      <td>N.60</td>\n",
              "      <td>SEBATIK</td>\n",
              "      <td>DATUK HJ. ABD MUIS HJ. PICHO</td>\n",
              "      <td>BN</td>\n",
              "      <td>2468.0</td>\n",
              "      <td>5285</td>\n",
              "      <td>46.70%</td>\n",
              "      <td>1</td>\n",
              "      <td>L</td>\n",
              "      <td>MNG</td>\n",
              "      <td>TIADA</td>\n",
              "    </tr>\n",
              "    <tr>\n",
              "      <th>1645</th>\n",
              "      <td>Sabah</td>\n",
              "      <td>N.60</td>\n",
              "      <td>SEBATIK</td>\n",
              "      <td>HASSAN A GANI PG AMIR</td>\n",
              "      <td>WARISAN</td>\n",
              "      <td>2275.0</td>\n",
              "      <td>5285</td>\n",
              "      <td>43.05%</td>\n",
              "      <td>0</td>\n",
              "      <td>L</td>\n",
              "      <td>KLH</td>\n",
              "      <td>BEKERJA SENDIRI</td>\n",
              "    </tr>\n",
              "  </tbody>\n",
              "</table>\n",
              "<p>1646 rows × 12 columns</p>\n",
              "</div>\n",
              "      <button class=\"colab-df-convert\" onclick=\"convertToInteractive('df-de41c076-d5d7-49ca-88bc-857e89491b0c')\"\n",
              "              title=\"Convert this dataframe to an interactive table.\"\n",
              "              style=\"display:none;\">\n",
              "        \n",
              "  <svg xmlns=\"http://www.w3.org/2000/svg\" height=\"24px\"viewBox=\"0 0 24 24\"\n",
              "       width=\"24px\">\n",
              "    <path d=\"M0 0h24v24H0V0z\" fill=\"none\"/>\n",
              "    <path d=\"M18.56 5.44l.94 2.06.94-2.06 2.06-.94-2.06-.94-.94-2.06-.94 2.06-2.06.94zm-11 1L8.5 8.5l.94-2.06 2.06-.94-2.06-.94L8.5 2.5l-.94 2.06-2.06.94zm10 10l.94 2.06.94-2.06 2.06-.94-2.06-.94-.94-2.06-.94 2.06-2.06.94z\"/><path d=\"M17.41 7.96l-1.37-1.37c-.4-.4-.92-.59-1.43-.59-.52 0-1.04.2-1.43.59L10.3 9.45l-7.72 7.72c-.78.78-.78 2.05 0 2.83L4 21.41c.39.39.9.59 1.41.59.51 0 1.02-.2 1.41-.59l7.78-7.78 2.81-2.81c.8-.78.8-2.07 0-2.86zM5.41 20L4 18.59l7.72-7.72 1.47 1.35L5.41 20z\"/>\n",
              "  </svg>\n",
              "      </button>\n",
              "      \n",
              "  <style>\n",
              "    .colab-df-container {\n",
              "      display:flex;\n",
              "      flex-wrap:wrap;\n",
              "      gap: 12px;\n",
              "    }\n",
              "\n",
              "    .colab-df-convert {\n",
              "      background-color: #E8F0FE;\n",
              "      border: none;\n",
              "      border-radius: 50%;\n",
              "      cursor: pointer;\n",
              "      display: none;\n",
              "      fill: #1967D2;\n",
              "      height: 32px;\n",
              "      padding: 0 0 0 0;\n",
              "      width: 32px;\n",
              "    }\n",
              "\n",
              "    .colab-df-convert:hover {\n",
              "      background-color: #E2EBFA;\n",
              "      box-shadow: 0px 1px 2px rgba(60, 64, 67, 0.3), 0px 1px 3px 1px rgba(60, 64, 67, 0.15);\n",
              "      fill: #174EA6;\n",
              "    }\n",
              "\n",
              "    [theme=dark] .colab-df-convert {\n",
              "      background-color: #3B4455;\n",
              "      fill: #D2E3FC;\n",
              "    }\n",
              "\n",
              "    [theme=dark] .colab-df-convert:hover {\n",
              "      background-color: #434B5C;\n",
              "      box-shadow: 0px 1px 3px 1px rgba(0, 0, 0, 0.15);\n",
              "      filter: drop-shadow(0px 1px 2px rgba(0, 0, 0, 0.3));\n",
              "      fill: #FFFFFF;\n",
              "    }\n",
              "  </style>\n",
              "\n",
              "      <script>\n",
              "        const buttonEl =\n",
              "          document.querySelector('#df-de41c076-d5d7-49ca-88bc-857e89491b0c button.colab-df-convert');\n",
              "        buttonEl.style.display =\n",
              "          google.colab.kernel.accessAllowed ? 'block' : 'none';\n",
              "\n",
              "        async function convertToInteractive(key) {\n",
              "          const element = document.querySelector('#df-de41c076-d5d7-49ca-88bc-857e89491b0c');\n",
              "          const dataTable =\n",
              "            await google.colab.kernel.invokeFunction('convertToInteractive',\n",
              "                                                     [key], {});\n",
              "          if (!dataTable) return;\n",
              "\n",
              "          const docLinkHtml = 'Like what you see? Visit the ' +\n",
              "            '<a target=\"_blank\" href=https://colab.research.google.com/notebooks/data_table.ipynb>data table notebook</a>'\n",
              "            + ' to learn more about interactive tables.';\n",
              "          element.innerHTML = '';\n",
              "          dataTable['output_type'] = 'display_data';\n",
              "          await google.colab.output.renderOutput(dataTable, element);\n",
              "          const docLink = document.createElement('div');\n",
              "          docLink.innerHTML = docLinkHtml;\n",
              "          element.appendChild(docLink);\n",
              "        }\n",
              "      </script>\n",
              "    </div>\n",
              "  </div>\n",
              "  "
            ]
          },
          "metadata": {},
          "execution_count": 2
        }
      ],
      "source": [
        "#Load data\n",
        "data = \"https://raw.githubusercontent.com/Madihah04/test-colab/main/Election-Results-2018%20-%20State_Results_By_Candidate.csv\"\n",
        "election = pd.read_csv(data)\n",
        "election"
      ]
    },
    {
      "cell_type": "code",
      "source": [
        "election.head()"
      ],
      "metadata": {
        "colab": {
          "base_uri": "https://localhost:8080/",
          "height": 206
        },
        "id": "DKxOlzSO4_u3",
        "outputId": "76aeee9a-d3af-455d-af05-2acb193199a9"
      },
      "execution_count": 3,
      "outputs": [
        {
          "output_type": "execute_result",
          "data": {
            "text/plain": [
              "   State Seat ID    Seat Name                 Candidate Name Candidate Party  \\\n",
              "0  Johor    N.01  BULOH KASAP                   ZAHARI SARIP              BN   \n",
              "1  Johor    N.01  BULOH KASAP            NORSAMSU MOHD YUSOF             PKR   \n",
              "2  Johor    N.02     JEMENTAH                 CHIAM YOK MENG              BN   \n",
              "3  Johor    N.02     JEMENTAH                 TAN CHEN CHOON             PKR   \n",
              "4  Johor    N.02     JEMENTAH  KHAIRUL FAIZI BIN AHMAD KAMIL             PAS   \n",
              "\n",
              "   Votes for Candidate  Total Votes Cast % of total Votes  Candidate Win  \\\n",
              "0               9186.0             17495           52.51%              1   \n",
              "1               8309.0             17495           47.49%              0   \n",
              "2               9335.0             27657           33.75%              0   \n",
              "3              16336.0             27657           59.07%              1   \n",
              "4               1986.0             27657            7.18%              0   \n",
              "\n",
              "  Gender Status Pekerjaan  \n",
              "0      L    MNG         0  \n",
              "1      L    KLH         0  \n",
              "2      L    KLH         0  \n",
              "3      L    MNG         0  \n",
              "4      L     HD         0  "
            ],
            "text/html": [
              "\n",
              "  <div id=\"df-f63e9ff1-5ec9-4730-a442-9601de73539f\">\n",
              "    <div class=\"colab-df-container\">\n",
              "      <div>\n",
              "<style scoped>\n",
              "    .dataframe tbody tr th:only-of-type {\n",
              "        vertical-align: middle;\n",
              "    }\n",
              "\n",
              "    .dataframe tbody tr th {\n",
              "        vertical-align: top;\n",
              "    }\n",
              "\n",
              "    .dataframe thead th {\n",
              "        text-align: right;\n",
              "    }\n",
              "</style>\n",
              "<table border=\"1\" class=\"dataframe\">\n",
              "  <thead>\n",
              "    <tr style=\"text-align: right;\">\n",
              "      <th></th>\n",
              "      <th>State</th>\n",
              "      <th>Seat ID</th>\n",
              "      <th>Seat Name</th>\n",
              "      <th>Candidate Name</th>\n",
              "      <th>Candidate Party</th>\n",
              "      <th>Votes for Candidate</th>\n",
              "      <th>Total Votes Cast</th>\n",
              "      <th>% of total Votes</th>\n",
              "      <th>Candidate Win</th>\n",
              "      <th>Gender</th>\n",
              "      <th>Status</th>\n",
              "      <th>Pekerjaan</th>\n",
              "    </tr>\n",
              "  </thead>\n",
              "  <tbody>\n",
              "    <tr>\n",
              "      <th>0</th>\n",
              "      <td>Johor</td>\n",
              "      <td>N.01</td>\n",
              "      <td>BULOH KASAP</td>\n",
              "      <td>ZAHARI SARIP</td>\n",
              "      <td>BN</td>\n",
              "      <td>9186.0</td>\n",
              "      <td>17495</td>\n",
              "      <td>52.51%</td>\n",
              "      <td>1</td>\n",
              "      <td>L</td>\n",
              "      <td>MNG</td>\n",
              "      <td>0</td>\n",
              "    </tr>\n",
              "    <tr>\n",
              "      <th>1</th>\n",
              "      <td>Johor</td>\n",
              "      <td>N.01</td>\n",
              "      <td>BULOH KASAP</td>\n",
              "      <td>NORSAMSU MOHD YUSOF</td>\n",
              "      <td>PKR</td>\n",
              "      <td>8309.0</td>\n",
              "      <td>17495</td>\n",
              "      <td>47.49%</td>\n",
              "      <td>0</td>\n",
              "      <td>L</td>\n",
              "      <td>KLH</td>\n",
              "      <td>0</td>\n",
              "    </tr>\n",
              "    <tr>\n",
              "      <th>2</th>\n",
              "      <td>Johor</td>\n",
              "      <td>N.02</td>\n",
              "      <td>JEMENTAH</td>\n",
              "      <td>CHIAM YOK MENG</td>\n",
              "      <td>BN</td>\n",
              "      <td>9335.0</td>\n",
              "      <td>27657</td>\n",
              "      <td>33.75%</td>\n",
              "      <td>0</td>\n",
              "      <td>L</td>\n",
              "      <td>KLH</td>\n",
              "      <td>0</td>\n",
              "    </tr>\n",
              "    <tr>\n",
              "      <th>3</th>\n",
              "      <td>Johor</td>\n",
              "      <td>N.02</td>\n",
              "      <td>JEMENTAH</td>\n",
              "      <td>TAN CHEN CHOON</td>\n",
              "      <td>PKR</td>\n",
              "      <td>16336.0</td>\n",
              "      <td>27657</td>\n",
              "      <td>59.07%</td>\n",
              "      <td>1</td>\n",
              "      <td>L</td>\n",
              "      <td>MNG</td>\n",
              "      <td>0</td>\n",
              "    </tr>\n",
              "    <tr>\n",
              "      <th>4</th>\n",
              "      <td>Johor</td>\n",
              "      <td>N.02</td>\n",
              "      <td>JEMENTAH</td>\n",
              "      <td>KHAIRUL FAIZI BIN AHMAD KAMIL</td>\n",
              "      <td>PAS</td>\n",
              "      <td>1986.0</td>\n",
              "      <td>27657</td>\n",
              "      <td>7.18%</td>\n",
              "      <td>0</td>\n",
              "      <td>L</td>\n",
              "      <td>HD</td>\n",
              "      <td>0</td>\n",
              "    </tr>\n",
              "  </tbody>\n",
              "</table>\n",
              "</div>\n",
              "      <button class=\"colab-df-convert\" onclick=\"convertToInteractive('df-f63e9ff1-5ec9-4730-a442-9601de73539f')\"\n",
              "              title=\"Convert this dataframe to an interactive table.\"\n",
              "              style=\"display:none;\">\n",
              "        \n",
              "  <svg xmlns=\"http://www.w3.org/2000/svg\" height=\"24px\"viewBox=\"0 0 24 24\"\n",
              "       width=\"24px\">\n",
              "    <path d=\"M0 0h24v24H0V0z\" fill=\"none\"/>\n",
              "    <path d=\"M18.56 5.44l.94 2.06.94-2.06 2.06-.94-2.06-.94-.94-2.06-.94 2.06-2.06.94zm-11 1L8.5 8.5l.94-2.06 2.06-.94-2.06-.94L8.5 2.5l-.94 2.06-2.06.94zm10 10l.94 2.06.94-2.06 2.06-.94-2.06-.94-.94-2.06-.94 2.06-2.06.94z\"/><path d=\"M17.41 7.96l-1.37-1.37c-.4-.4-.92-.59-1.43-.59-.52 0-1.04.2-1.43.59L10.3 9.45l-7.72 7.72c-.78.78-.78 2.05 0 2.83L4 21.41c.39.39.9.59 1.41.59.51 0 1.02-.2 1.41-.59l7.78-7.78 2.81-2.81c.8-.78.8-2.07 0-2.86zM5.41 20L4 18.59l7.72-7.72 1.47 1.35L5.41 20z\"/>\n",
              "  </svg>\n",
              "      </button>\n",
              "      \n",
              "  <style>\n",
              "    .colab-df-container {\n",
              "      display:flex;\n",
              "      flex-wrap:wrap;\n",
              "      gap: 12px;\n",
              "    }\n",
              "\n",
              "    .colab-df-convert {\n",
              "      background-color: #E8F0FE;\n",
              "      border: none;\n",
              "      border-radius: 50%;\n",
              "      cursor: pointer;\n",
              "      display: none;\n",
              "      fill: #1967D2;\n",
              "      height: 32px;\n",
              "      padding: 0 0 0 0;\n",
              "      width: 32px;\n",
              "    }\n",
              "\n",
              "    .colab-df-convert:hover {\n",
              "      background-color: #E2EBFA;\n",
              "      box-shadow: 0px 1px 2px rgba(60, 64, 67, 0.3), 0px 1px 3px 1px rgba(60, 64, 67, 0.15);\n",
              "      fill: #174EA6;\n",
              "    }\n",
              "\n",
              "    [theme=dark] .colab-df-convert {\n",
              "      background-color: #3B4455;\n",
              "      fill: #D2E3FC;\n",
              "    }\n",
              "\n",
              "    [theme=dark] .colab-df-convert:hover {\n",
              "      background-color: #434B5C;\n",
              "      box-shadow: 0px 1px 3px 1px rgba(0, 0, 0, 0.15);\n",
              "      filter: drop-shadow(0px 1px 2px rgba(0, 0, 0, 0.3));\n",
              "      fill: #FFFFFF;\n",
              "    }\n",
              "  </style>\n",
              "\n",
              "      <script>\n",
              "        const buttonEl =\n",
              "          document.querySelector('#df-f63e9ff1-5ec9-4730-a442-9601de73539f button.colab-df-convert');\n",
              "        buttonEl.style.display =\n",
              "          google.colab.kernel.accessAllowed ? 'block' : 'none';\n",
              "\n",
              "        async function convertToInteractive(key) {\n",
              "          const element = document.querySelector('#df-f63e9ff1-5ec9-4730-a442-9601de73539f');\n",
              "          const dataTable =\n",
              "            await google.colab.kernel.invokeFunction('convertToInteractive',\n",
              "                                                     [key], {});\n",
              "          if (!dataTable) return;\n",
              "\n",
              "          const docLinkHtml = 'Like what you see? Visit the ' +\n",
              "            '<a target=\"_blank\" href=https://colab.research.google.com/notebooks/data_table.ipynb>data table notebook</a>'\n",
              "            + ' to learn more about interactive tables.';\n",
              "          element.innerHTML = '';\n",
              "          dataTable['output_type'] = 'display_data';\n",
              "          await google.colab.output.renderOutput(dataTable, element);\n",
              "          const docLink = document.createElement('div');\n",
              "          docLink.innerHTML = docLinkHtml;\n",
              "          element.appendChild(docLink);\n",
              "        }\n",
              "      </script>\n",
              "    </div>\n",
              "  </div>\n",
              "  "
            ]
          },
          "metadata": {},
          "execution_count": 3
        }
      ]
    },
    {
      "cell_type": "code",
      "source": [
        "election.tail()"
      ],
      "metadata": {
        "colab": {
          "base_uri": "https://localhost:8080/",
          "height": 250
        },
        "id": "R6RSef0c5H7m",
        "outputId": "ab5234dd-89e5-41de-e770-3307a0a479b2"
      },
      "execution_count": 4,
      "outputs": [
        {
          "output_type": "execute_result",
          "data": {
            "text/plain": [
              "      State Seat ID     Seat Name                Candidate Name  \\\n",
              "1641  Sabah    N.59  TANJONG BATU                 ISMAIL SENANG   \n",
              "1642  Sabah    N.60       SEBATIK                YUSRI HJ YUNUS   \n",
              "1643  Sabah    N.60       SEBATIK            USTAZ ROSLAN RAMLI   \n",
              "1644  Sabah    N.60       SEBATIK  DATUK HJ. ABD MUIS HJ. PICHO   \n",
              "1645  Sabah    N.60       SEBATIK         HASSAN A GANI PG AMIR   \n",
              "\n",
              "     Candidate Party  Votes for Candidate  Total Votes Cast % of total Votes  \\\n",
              "1641         WARISAN               6552.0             16767           39.08%   \n",
              "1642            PPRS                 38.0              5285            0.72%   \n",
              "1643             PAS                504.0              5285            9.54%   \n",
              "1644              BN               2468.0              5285           46.70%   \n",
              "1645         WARISAN               2275.0              5285           43.05%   \n",
              "\n",
              "      Candidate Win Gender Status        Pekerjaan  \n",
              "1641              0      L    KLH  BEKERJA SENDIRI  \n",
              "1642              0      L     HD                0  \n",
              "1643              0      L     HD                0  \n",
              "1644              1      L    MNG            TIADA  \n",
              "1645              0      L    KLH  BEKERJA SENDIRI  "
            ],
            "text/html": [
              "\n",
              "  <div id=\"df-5f94edeb-6d7c-49ca-9565-b35681f65939\">\n",
              "    <div class=\"colab-df-container\">\n",
              "      <div>\n",
              "<style scoped>\n",
              "    .dataframe tbody tr th:only-of-type {\n",
              "        vertical-align: middle;\n",
              "    }\n",
              "\n",
              "    .dataframe tbody tr th {\n",
              "        vertical-align: top;\n",
              "    }\n",
              "\n",
              "    .dataframe thead th {\n",
              "        text-align: right;\n",
              "    }\n",
              "</style>\n",
              "<table border=\"1\" class=\"dataframe\">\n",
              "  <thead>\n",
              "    <tr style=\"text-align: right;\">\n",
              "      <th></th>\n",
              "      <th>State</th>\n",
              "      <th>Seat ID</th>\n",
              "      <th>Seat Name</th>\n",
              "      <th>Candidate Name</th>\n",
              "      <th>Candidate Party</th>\n",
              "      <th>Votes for Candidate</th>\n",
              "      <th>Total Votes Cast</th>\n",
              "      <th>% of total Votes</th>\n",
              "      <th>Candidate Win</th>\n",
              "      <th>Gender</th>\n",
              "      <th>Status</th>\n",
              "      <th>Pekerjaan</th>\n",
              "    </tr>\n",
              "  </thead>\n",
              "  <tbody>\n",
              "    <tr>\n",
              "      <th>1641</th>\n",
              "      <td>Sabah</td>\n",
              "      <td>N.59</td>\n",
              "      <td>TANJONG BATU</td>\n",
              "      <td>ISMAIL SENANG</td>\n",
              "      <td>WARISAN</td>\n",
              "      <td>6552.0</td>\n",
              "      <td>16767</td>\n",
              "      <td>39.08%</td>\n",
              "      <td>0</td>\n",
              "      <td>L</td>\n",
              "      <td>KLH</td>\n",
              "      <td>BEKERJA SENDIRI</td>\n",
              "    </tr>\n",
              "    <tr>\n",
              "      <th>1642</th>\n",
              "      <td>Sabah</td>\n",
              "      <td>N.60</td>\n",
              "      <td>SEBATIK</td>\n",
              "      <td>YUSRI HJ YUNUS</td>\n",
              "      <td>PPRS</td>\n",
              "      <td>38.0</td>\n",
              "      <td>5285</td>\n",
              "      <td>0.72%</td>\n",
              "      <td>0</td>\n",
              "      <td>L</td>\n",
              "      <td>HD</td>\n",
              "      <td>0</td>\n",
              "    </tr>\n",
              "    <tr>\n",
              "      <th>1643</th>\n",
              "      <td>Sabah</td>\n",
              "      <td>N.60</td>\n",
              "      <td>SEBATIK</td>\n",
              "      <td>USTAZ ROSLAN RAMLI</td>\n",
              "      <td>PAS</td>\n",
              "      <td>504.0</td>\n",
              "      <td>5285</td>\n",
              "      <td>9.54%</td>\n",
              "      <td>0</td>\n",
              "      <td>L</td>\n",
              "      <td>HD</td>\n",
              "      <td>0</td>\n",
              "    </tr>\n",
              "    <tr>\n",
              "      <th>1644</th>\n",
              "      <td>Sabah</td>\n",
              "      <td>N.60</td>\n",
              "      <td>SEBATIK</td>\n",
              "      <td>DATUK HJ. ABD MUIS HJ. PICHO</td>\n",
              "      <td>BN</td>\n",
              "      <td>2468.0</td>\n",
              "      <td>5285</td>\n",
              "      <td>46.70%</td>\n",
              "      <td>1</td>\n",
              "      <td>L</td>\n",
              "      <td>MNG</td>\n",
              "      <td>TIADA</td>\n",
              "    </tr>\n",
              "    <tr>\n",
              "      <th>1645</th>\n",
              "      <td>Sabah</td>\n",
              "      <td>N.60</td>\n",
              "      <td>SEBATIK</td>\n",
              "      <td>HASSAN A GANI PG AMIR</td>\n",
              "      <td>WARISAN</td>\n",
              "      <td>2275.0</td>\n",
              "      <td>5285</td>\n",
              "      <td>43.05%</td>\n",
              "      <td>0</td>\n",
              "      <td>L</td>\n",
              "      <td>KLH</td>\n",
              "      <td>BEKERJA SENDIRI</td>\n",
              "    </tr>\n",
              "  </tbody>\n",
              "</table>\n",
              "</div>\n",
              "      <button class=\"colab-df-convert\" onclick=\"convertToInteractive('df-5f94edeb-6d7c-49ca-9565-b35681f65939')\"\n",
              "              title=\"Convert this dataframe to an interactive table.\"\n",
              "              style=\"display:none;\">\n",
              "        \n",
              "  <svg xmlns=\"http://www.w3.org/2000/svg\" height=\"24px\"viewBox=\"0 0 24 24\"\n",
              "       width=\"24px\">\n",
              "    <path d=\"M0 0h24v24H0V0z\" fill=\"none\"/>\n",
              "    <path d=\"M18.56 5.44l.94 2.06.94-2.06 2.06-.94-2.06-.94-.94-2.06-.94 2.06-2.06.94zm-11 1L8.5 8.5l.94-2.06 2.06-.94-2.06-.94L8.5 2.5l-.94 2.06-2.06.94zm10 10l.94 2.06.94-2.06 2.06-.94-2.06-.94-.94-2.06-.94 2.06-2.06.94z\"/><path d=\"M17.41 7.96l-1.37-1.37c-.4-.4-.92-.59-1.43-.59-.52 0-1.04.2-1.43.59L10.3 9.45l-7.72 7.72c-.78.78-.78 2.05 0 2.83L4 21.41c.39.39.9.59 1.41.59.51 0 1.02-.2 1.41-.59l7.78-7.78 2.81-2.81c.8-.78.8-2.07 0-2.86zM5.41 20L4 18.59l7.72-7.72 1.47 1.35L5.41 20z\"/>\n",
              "  </svg>\n",
              "      </button>\n",
              "      \n",
              "  <style>\n",
              "    .colab-df-container {\n",
              "      display:flex;\n",
              "      flex-wrap:wrap;\n",
              "      gap: 12px;\n",
              "    }\n",
              "\n",
              "    .colab-df-convert {\n",
              "      background-color: #E8F0FE;\n",
              "      border: none;\n",
              "      border-radius: 50%;\n",
              "      cursor: pointer;\n",
              "      display: none;\n",
              "      fill: #1967D2;\n",
              "      height: 32px;\n",
              "      padding: 0 0 0 0;\n",
              "      width: 32px;\n",
              "    }\n",
              "\n",
              "    .colab-df-convert:hover {\n",
              "      background-color: #E2EBFA;\n",
              "      box-shadow: 0px 1px 2px rgba(60, 64, 67, 0.3), 0px 1px 3px 1px rgba(60, 64, 67, 0.15);\n",
              "      fill: #174EA6;\n",
              "    }\n",
              "\n",
              "    [theme=dark] .colab-df-convert {\n",
              "      background-color: #3B4455;\n",
              "      fill: #D2E3FC;\n",
              "    }\n",
              "\n",
              "    [theme=dark] .colab-df-convert:hover {\n",
              "      background-color: #434B5C;\n",
              "      box-shadow: 0px 1px 3px 1px rgba(0, 0, 0, 0.15);\n",
              "      filter: drop-shadow(0px 1px 2px rgba(0, 0, 0, 0.3));\n",
              "      fill: #FFFFFF;\n",
              "    }\n",
              "  </style>\n",
              "\n",
              "      <script>\n",
              "        const buttonEl =\n",
              "          document.querySelector('#df-5f94edeb-6d7c-49ca-9565-b35681f65939 button.colab-df-convert');\n",
              "        buttonEl.style.display =\n",
              "          google.colab.kernel.accessAllowed ? 'block' : 'none';\n",
              "\n",
              "        async function convertToInteractive(key) {\n",
              "          const element = document.querySelector('#df-5f94edeb-6d7c-49ca-9565-b35681f65939');\n",
              "          const dataTable =\n",
              "            await google.colab.kernel.invokeFunction('convertToInteractive',\n",
              "                                                     [key], {});\n",
              "          if (!dataTable) return;\n",
              "\n",
              "          const docLinkHtml = 'Like what you see? Visit the ' +\n",
              "            '<a target=\"_blank\" href=https://colab.research.google.com/notebooks/data_table.ipynb>data table notebook</a>'\n",
              "            + ' to learn more about interactive tables.';\n",
              "          element.innerHTML = '';\n",
              "          dataTable['output_type'] = 'display_data';\n",
              "          await google.colab.output.renderOutput(dataTable, element);\n",
              "          const docLink = document.createElement('div');\n",
              "          docLink.innerHTML = docLinkHtml;\n",
              "          element.appendChild(docLink);\n",
              "        }\n",
              "      </script>\n",
              "    </div>\n",
              "  </div>\n",
              "  "
            ]
          },
          "metadata": {},
          "execution_count": 4
        }
      ]
    },
    {
      "cell_type": "markdown",
      "source": [
        "Next, identify the data type of each fields to plan out data preparation and cleaning."
      ],
      "metadata": {
        "id": "CjfQ-NVcIcH5"
      }
    },
    {
      "cell_type": "code",
      "execution_count": 5,
      "metadata": {
        "id": "t26lvNVLVJJ5",
        "colab": {
          "base_uri": "https://localhost:8080/"
        },
        "outputId": "63117417-2ab3-48bc-efa7-02111ccbce01"
      },
      "outputs": [
        {
          "output_type": "stream",
          "name": "stdout",
          "text": [
            "<class 'pandas.core.frame.DataFrame'>\n",
            "RangeIndex: 1646 entries, 0 to 1645\n",
            "Data columns (total 12 columns):\n",
            " #   Column               Non-Null Count  Dtype  \n",
            "---  ------               --------------  -----  \n",
            " 0   State                1646 non-null   object \n",
            " 1   Seat ID              1646 non-null   object \n",
            " 2   Seat Name            1646 non-null   object \n",
            " 3   Candidate Name       1646 non-null   object \n",
            " 4   Candidate Party      1646 non-null   object \n",
            " 5   Votes for Candidate  1645 non-null   float64\n",
            " 6   Total Votes Cast     1646 non-null   int64  \n",
            " 7   % of total Votes     1646 non-null   object \n",
            " 8   Candidate Win        1646 non-null   int64  \n",
            " 9   Gender               1646 non-null   object \n",
            " 10  Status               1646 non-null   object \n",
            " 11  Pekerjaan            1646 non-null   object \n",
            "dtypes: float64(1), int64(2), object(9)\n",
            "memory usage: 154.4+ KB\n"
          ]
        }
      ],
      "source": [
        "election.info()"
      ]
    },
    {
      "cell_type": "markdown",
      "metadata": {
        "id": "u0vucnGFVJJ5"
      },
      "source": [
        "# Data Preparation and Cleaning\n",
        "\n",
        "**Data** **cleaning** is the process of modifying data to ensure that it is free of irrelevances and incorrect information. It entails identifying **incorrect**, **irrelevant**, **incomplete**, and the **dirty** parts of a dataset and then replacing or cleaning the dirty parts of the data. \n",
        "\n",
        "It is very valuable in improving the efficiency of the result of data analysis as it helps to improve data quality.\n",
        "\n",
        "The process of data cleansing may involve the removal of typographical errors, data validation, and data enhancement. This will be done until the data is reported to meet the data quality criteria, which include; **validity, accuracy, completeness, consistency, and uniformity**.\n",
        "\n"
      ]
    },
    {
      "cell_type": "markdown",
      "source": [
        "- Below, we can see the RangeIndex of each column which is 1646.\n",
        "- In the dataset, there is 1 column that had float64 as data type while 2 are int64 and the rest are object.\n",
        "- Aslo, we can see this dataset has no null values."
      ],
      "metadata": {
        "id": "0_HgkH6Roj9M"
      }
    },
    {
      "cell_type": "markdown",
      "source": [
        "- Next, we remove the **%** symbol for **% of total Votes** column\n",
        "- And, we convert the columns to a suitable data type"
      ],
      "metadata": {
        "id": "r8m5AEfWqX4D"
      }
    },
    {
      "cell_type": "code",
      "source": [
        "election = election.replace('%','')\n",
        "election[['State','Seat ID','Seat Name','Candidate Name','Candidate Party','% of total Votes',\"Gender\",'Status','Pekerjaan']] = election[['State','Seat ID','Seat Name','Candidate Name','Candidate Party','% of total Votes',\"Gender\",'Status','Pekerjaan']].convert_dtypes(str)\n",
        "\n",
        "election['Votes for Candidate'] = election['Votes for Candidate'].convert_dtypes(int)\n",
        "election.info()\n"
      ],
      "metadata": {
        "colab": {
          "base_uri": "https://localhost:8080/"
        },
        "id": "-kLW0IALwoaH",
        "outputId": "83e918b8-62ed-4bf3-8377-1208fb89f1b4"
      },
      "execution_count": 6,
      "outputs": [
        {
          "output_type": "stream",
          "name": "stdout",
          "text": [
            "<class 'pandas.core.frame.DataFrame'>\n",
            "RangeIndex: 1646 entries, 0 to 1645\n",
            "Data columns (total 12 columns):\n",
            " #   Column               Non-Null Count  Dtype \n",
            "---  ------               --------------  ----- \n",
            " 0   State                1646 non-null   string\n",
            " 1   Seat ID              1646 non-null   string\n",
            " 2   Seat Name            1646 non-null   string\n",
            " 3   Candidate Name       1646 non-null   string\n",
            " 4   Candidate Party      1646 non-null   string\n",
            " 5   Votes for Candidate  1645 non-null   Int64 \n",
            " 6   Total Votes Cast     1646 non-null   int64 \n",
            " 7   % of total Votes     1646 non-null   string\n",
            " 8   Candidate Win        1646 non-null   int64 \n",
            " 9   Gender               1646 non-null   string\n",
            " 10  Status               1646 non-null   string\n",
            " 11  Pekerjaan            1646 non-null   string\n",
            "dtypes: Int64(1), int64(2), string(9)\n",
            "memory usage: 156.0 KB\n"
          ]
        }
      ]
    },
    {
      "cell_type": "markdown",
      "source": [
        "- Then, we replace 0 in **Pekerjaan** column to **TIADA** to standardize the data.\n"
      ],
      "metadata": {
        "id": "9x6kL-5p_ZDd"
      }
    },
    {
      "cell_type": "code",
      "execution_count": 7,
      "metadata": {
        "id": "7mUpY22aVJJ6",
        "colab": {
          "base_uri": "https://localhost:8080/",
          "height": 537
        },
        "outputId": "1eecacee-29de-4d0c-bc00-85d1895b5d1a"
      },
      "outputs": [
        {
          "output_type": "execute_result",
          "data": {
            "text/plain": [
              "      State Seat ID     Seat Name                 Candidate Name  \\\n",
              "0     Johor    N.01   BULOH KASAP                   ZAHARI SARIP   \n",
              "1     Johor    N.01   BULOH KASAP            NORSAMSU MOHD YUSOF   \n",
              "2     Johor    N.02      JEMENTAH                 CHIAM YOK MENG   \n",
              "3     Johor    N.02      JEMENTAH                 TAN CHEN CHOON   \n",
              "4     Johor    N.02      JEMENTAH  KHAIRUL FAIZI BIN AHMAD KAMIL   \n",
              "...     ...     ...           ...                            ...   \n",
              "1641  Sabah    N.59  TANJONG BATU                  ISMAIL SENANG   \n",
              "1642  Sabah    N.60       SEBATIK                 YUSRI HJ YUNUS   \n",
              "1643  Sabah    N.60       SEBATIK             USTAZ ROSLAN RAMLI   \n",
              "1644  Sabah    N.60       SEBATIK   DATUK HJ. ABD MUIS HJ. PICHO   \n",
              "1645  Sabah    N.60       SEBATIK          HASSAN A GANI PG AMIR   \n",
              "\n",
              "     Candidate Party  Votes for Candidate  Total Votes Cast % of total Votes  \\\n",
              "0                 BN                 9186             17495           52.51%   \n",
              "1                PKR                 8309             17495           47.49%   \n",
              "2                 BN                 9335             27657           33.75%   \n",
              "3                PKR                16336             27657           59.07%   \n",
              "4                PAS                 1986             27657            7.18%   \n",
              "...              ...                  ...               ...              ...   \n",
              "1641         WARISAN                 6552             16767           39.08%   \n",
              "1642            PPRS                   38              5285            0.72%   \n",
              "1643             PAS                  504              5285            9.54%   \n",
              "1644              BN                 2468              5285           46.70%   \n",
              "1645         WARISAN                 2275              5285           43.05%   \n",
              "\n",
              "      Candidate Win Gender Status        Pekerjaan  \n",
              "0                 1      L    MNG            TIADA  \n",
              "1                 0      L    KLH            TIADA  \n",
              "2                 0      L    KLH            TIADA  \n",
              "3                 1      L    MNG            TIADA  \n",
              "4                 0      L     HD            TIADA  \n",
              "...             ...    ...    ...              ...  \n",
              "1641              0      L    KLH  BEKERJA SENDIRI  \n",
              "1642              0      L     HD            TIADA  \n",
              "1643              0      L     HD            TIADA  \n",
              "1644              1      L    MNG            TIADA  \n",
              "1645              0      L    KLH  BEKERJA SENDIRI  \n",
              "\n",
              "[1646 rows x 12 columns]"
            ],
            "text/html": [
              "\n",
              "  <div id=\"df-021e0b6e-450b-4a3a-8eb6-64d33ed8df6a\">\n",
              "    <div class=\"colab-df-container\">\n",
              "      <div>\n",
              "<style scoped>\n",
              "    .dataframe tbody tr th:only-of-type {\n",
              "        vertical-align: middle;\n",
              "    }\n",
              "\n",
              "    .dataframe tbody tr th {\n",
              "        vertical-align: top;\n",
              "    }\n",
              "\n",
              "    .dataframe thead th {\n",
              "        text-align: right;\n",
              "    }\n",
              "</style>\n",
              "<table border=\"1\" class=\"dataframe\">\n",
              "  <thead>\n",
              "    <tr style=\"text-align: right;\">\n",
              "      <th></th>\n",
              "      <th>State</th>\n",
              "      <th>Seat ID</th>\n",
              "      <th>Seat Name</th>\n",
              "      <th>Candidate Name</th>\n",
              "      <th>Candidate Party</th>\n",
              "      <th>Votes for Candidate</th>\n",
              "      <th>Total Votes Cast</th>\n",
              "      <th>% of total Votes</th>\n",
              "      <th>Candidate Win</th>\n",
              "      <th>Gender</th>\n",
              "      <th>Status</th>\n",
              "      <th>Pekerjaan</th>\n",
              "    </tr>\n",
              "  </thead>\n",
              "  <tbody>\n",
              "    <tr>\n",
              "      <th>0</th>\n",
              "      <td>Johor</td>\n",
              "      <td>N.01</td>\n",
              "      <td>BULOH KASAP</td>\n",
              "      <td>ZAHARI SARIP</td>\n",
              "      <td>BN</td>\n",
              "      <td>9186</td>\n",
              "      <td>17495</td>\n",
              "      <td>52.51%</td>\n",
              "      <td>1</td>\n",
              "      <td>L</td>\n",
              "      <td>MNG</td>\n",
              "      <td>TIADA</td>\n",
              "    </tr>\n",
              "    <tr>\n",
              "      <th>1</th>\n",
              "      <td>Johor</td>\n",
              "      <td>N.01</td>\n",
              "      <td>BULOH KASAP</td>\n",
              "      <td>NORSAMSU MOHD YUSOF</td>\n",
              "      <td>PKR</td>\n",
              "      <td>8309</td>\n",
              "      <td>17495</td>\n",
              "      <td>47.49%</td>\n",
              "      <td>0</td>\n",
              "      <td>L</td>\n",
              "      <td>KLH</td>\n",
              "      <td>TIADA</td>\n",
              "    </tr>\n",
              "    <tr>\n",
              "      <th>2</th>\n",
              "      <td>Johor</td>\n",
              "      <td>N.02</td>\n",
              "      <td>JEMENTAH</td>\n",
              "      <td>CHIAM YOK MENG</td>\n",
              "      <td>BN</td>\n",
              "      <td>9335</td>\n",
              "      <td>27657</td>\n",
              "      <td>33.75%</td>\n",
              "      <td>0</td>\n",
              "      <td>L</td>\n",
              "      <td>KLH</td>\n",
              "      <td>TIADA</td>\n",
              "    </tr>\n",
              "    <tr>\n",
              "      <th>3</th>\n",
              "      <td>Johor</td>\n",
              "      <td>N.02</td>\n",
              "      <td>JEMENTAH</td>\n",
              "      <td>TAN CHEN CHOON</td>\n",
              "      <td>PKR</td>\n",
              "      <td>16336</td>\n",
              "      <td>27657</td>\n",
              "      <td>59.07%</td>\n",
              "      <td>1</td>\n",
              "      <td>L</td>\n",
              "      <td>MNG</td>\n",
              "      <td>TIADA</td>\n",
              "    </tr>\n",
              "    <tr>\n",
              "      <th>4</th>\n",
              "      <td>Johor</td>\n",
              "      <td>N.02</td>\n",
              "      <td>JEMENTAH</td>\n",
              "      <td>KHAIRUL FAIZI BIN AHMAD KAMIL</td>\n",
              "      <td>PAS</td>\n",
              "      <td>1986</td>\n",
              "      <td>27657</td>\n",
              "      <td>7.18%</td>\n",
              "      <td>0</td>\n",
              "      <td>L</td>\n",
              "      <td>HD</td>\n",
              "      <td>TIADA</td>\n",
              "    </tr>\n",
              "    <tr>\n",
              "      <th>...</th>\n",
              "      <td>...</td>\n",
              "      <td>...</td>\n",
              "      <td>...</td>\n",
              "      <td>...</td>\n",
              "      <td>...</td>\n",
              "      <td>...</td>\n",
              "      <td>...</td>\n",
              "      <td>...</td>\n",
              "      <td>...</td>\n",
              "      <td>...</td>\n",
              "      <td>...</td>\n",
              "      <td>...</td>\n",
              "    </tr>\n",
              "    <tr>\n",
              "      <th>1641</th>\n",
              "      <td>Sabah</td>\n",
              "      <td>N.59</td>\n",
              "      <td>TANJONG BATU</td>\n",
              "      <td>ISMAIL SENANG</td>\n",
              "      <td>WARISAN</td>\n",
              "      <td>6552</td>\n",
              "      <td>16767</td>\n",
              "      <td>39.08%</td>\n",
              "      <td>0</td>\n",
              "      <td>L</td>\n",
              "      <td>KLH</td>\n",
              "      <td>BEKERJA SENDIRI</td>\n",
              "    </tr>\n",
              "    <tr>\n",
              "      <th>1642</th>\n",
              "      <td>Sabah</td>\n",
              "      <td>N.60</td>\n",
              "      <td>SEBATIK</td>\n",
              "      <td>YUSRI HJ YUNUS</td>\n",
              "      <td>PPRS</td>\n",
              "      <td>38</td>\n",
              "      <td>5285</td>\n",
              "      <td>0.72%</td>\n",
              "      <td>0</td>\n",
              "      <td>L</td>\n",
              "      <td>HD</td>\n",
              "      <td>TIADA</td>\n",
              "    </tr>\n",
              "    <tr>\n",
              "      <th>1643</th>\n",
              "      <td>Sabah</td>\n",
              "      <td>N.60</td>\n",
              "      <td>SEBATIK</td>\n",
              "      <td>USTAZ ROSLAN RAMLI</td>\n",
              "      <td>PAS</td>\n",
              "      <td>504</td>\n",
              "      <td>5285</td>\n",
              "      <td>9.54%</td>\n",
              "      <td>0</td>\n",
              "      <td>L</td>\n",
              "      <td>HD</td>\n",
              "      <td>TIADA</td>\n",
              "    </tr>\n",
              "    <tr>\n",
              "      <th>1644</th>\n",
              "      <td>Sabah</td>\n",
              "      <td>N.60</td>\n",
              "      <td>SEBATIK</td>\n",
              "      <td>DATUK HJ. ABD MUIS HJ. PICHO</td>\n",
              "      <td>BN</td>\n",
              "      <td>2468</td>\n",
              "      <td>5285</td>\n",
              "      <td>46.70%</td>\n",
              "      <td>1</td>\n",
              "      <td>L</td>\n",
              "      <td>MNG</td>\n",
              "      <td>TIADA</td>\n",
              "    </tr>\n",
              "    <tr>\n",
              "      <th>1645</th>\n",
              "      <td>Sabah</td>\n",
              "      <td>N.60</td>\n",
              "      <td>SEBATIK</td>\n",
              "      <td>HASSAN A GANI PG AMIR</td>\n",
              "      <td>WARISAN</td>\n",
              "      <td>2275</td>\n",
              "      <td>5285</td>\n",
              "      <td>43.05%</td>\n",
              "      <td>0</td>\n",
              "      <td>L</td>\n",
              "      <td>KLH</td>\n",
              "      <td>BEKERJA SENDIRI</td>\n",
              "    </tr>\n",
              "  </tbody>\n",
              "</table>\n",
              "<p>1646 rows × 12 columns</p>\n",
              "</div>\n",
              "      <button class=\"colab-df-convert\" onclick=\"convertToInteractive('df-021e0b6e-450b-4a3a-8eb6-64d33ed8df6a')\"\n",
              "              title=\"Convert this dataframe to an interactive table.\"\n",
              "              style=\"display:none;\">\n",
              "        \n",
              "  <svg xmlns=\"http://www.w3.org/2000/svg\" height=\"24px\"viewBox=\"0 0 24 24\"\n",
              "       width=\"24px\">\n",
              "    <path d=\"M0 0h24v24H0V0z\" fill=\"none\"/>\n",
              "    <path d=\"M18.56 5.44l.94 2.06.94-2.06 2.06-.94-2.06-.94-.94-2.06-.94 2.06-2.06.94zm-11 1L8.5 8.5l.94-2.06 2.06-.94-2.06-.94L8.5 2.5l-.94 2.06-2.06.94zm10 10l.94 2.06.94-2.06 2.06-.94-2.06-.94-.94-2.06-.94 2.06-2.06.94z\"/><path d=\"M17.41 7.96l-1.37-1.37c-.4-.4-.92-.59-1.43-.59-.52 0-1.04.2-1.43.59L10.3 9.45l-7.72 7.72c-.78.78-.78 2.05 0 2.83L4 21.41c.39.39.9.59 1.41.59.51 0 1.02-.2 1.41-.59l7.78-7.78 2.81-2.81c.8-.78.8-2.07 0-2.86zM5.41 20L4 18.59l7.72-7.72 1.47 1.35L5.41 20z\"/>\n",
              "  </svg>\n",
              "      </button>\n",
              "      \n",
              "  <style>\n",
              "    .colab-df-container {\n",
              "      display:flex;\n",
              "      flex-wrap:wrap;\n",
              "      gap: 12px;\n",
              "    }\n",
              "\n",
              "    .colab-df-convert {\n",
              "      background-color: #E8F0FE;\n",
              "      border: none;\n",
              "      border-radius: 50%;\n",
              "      cursor: pointer;\n",
              "      display: none;\n",
              "      fill: #1967D2;\n",
              "      height: 32px;\n",
              "      padding: 0 0 0 0;\n",
              "      width: 32px;\n",
              "    }\n",
              "\n",
              "    .colab-df-convert:hover {\n",
              "      background-color: #E2EBFA;\n",
              "      box-shadow: 0px 1px 2px rgba(60, 64, 67, 0.3), 0px 1px 3px 1px rgba(60, 64, 67, 0.15);\n",
              "      fill: #174EA6;\n",
              "    }\n",
              "\n",
              "    [theme=dark] .colab-df-convert {\n",
              "      background-color: #3B4455;\n",
              "      fill: #D2E3FC;\n",
              "    }\n",
              "\n",
              "    [theme=dark] .colab-df-convert:hover {\n",
              "      background-color: #434B5C;\n",
              "      box-shadow: 0px 1px 3px 1px rgba(0, 0, 0, 0.15);\n",
              "      filter: drop-shadow(0px 1px 2px rgba(0, 0, 0, 0.3));\n",
              "      fill: #FFFFFF;\n",
              "    }\n",
              "  </style>\n",
              "\n",
              "      <script>\n",
              "        const buttonEl =\n",
              "          document.querySelector('#df-021e0b6e-450b-4a3a-8eb6-64d33ed8df6a button.colab-df-convert');\n",
              "        buttonEl.style.display =\n",
              "          google.colab.kernel.accessAllowed ? 'block' : 'none';\n",
              "\n",
              "        async function convertToInteractive(key) {\n",
              "          const element = document.querySelector('#df-021e0b6e-450b-4a3a-8eb6-64d33ed8df6a');\n",
              "          const dataTable =\n",
              "            await google.colab.kernel.invokeFunction('convertToInteractive',\n",
              "                                                     [key], {});\n",
              "          if (!dataTable) return;\n",
              "\n",
              "          const docLinkHtml = 'Like what you see? Visit the ' +\n",
              "            '<a target=\"_blank\" href=https://colab.research.google.com/notebooks/data_table.ipynb>data table notebook</a>'\n",
              "            + ' to learn more about interactive tables.';\n",
              "          element.innerHTML = '';\n",
              "          dataTable['output_type'] = 'display_data';\n",
              "          await google.colab.output.renderOutput(dataTable, element);\n",
              "          const docLink = document.createElement('div');\n",
              "          docLink.innerHTML = docLinkHtml;\n",
              "          element.appendChild(docLink);\n",
              "        }\n",
              "      </script>\n",
              "    </div>\n",
              "  </div>\n",
              "  "
            ]
          },
          "metadata": {},
          "execution_count": 7
        }
      ],
      "source": [
        "election['Pekerjaan'] = election['Pekerjaan'].replace('0','TIADA')\n",
        "election"
      ]
    },
    {
      "cell_type": "markdown",
      "source": [
        "- unique function is used to make sure the **Pekerjaan** column contain no *ambigous* data.\n",
        "\n"
      ],
      "metadata": {
        "id": "Xv49jLA2uiiH"
      }
    },
    {
      "cell_type": "code",
      "execution_count": 8,
      "metadata": {
        "id": "h46ilQakVJJ6",
        "colab": {
          "base_uri": "https://localhost:8080/"
        },
        "outputId": "e6134f00-23fa-4f80-b40b-2130f67445cc"
      },
      "outputs": [
        {
          "output_type": "execute_result",
          "data": {
            "text/plain": [
              "<StringArray>\n",
              "[                                                       'TIADA',\n",
              "                                                     'USAHAWAN',\n",
              "                                      'DOKTOR PERUBATAN SWASTA',\n",
              "                                              'BEKERJA SENDIRI',\n",
              "                                              'AHLI PERNIAGAAN',\n",
              "                                                      'PENIAGA',\n",
              "                                                  'PESARA GURU',\n",
              "                                              'PESARA KERAJAAN',\n",
              "                  'AHLI MAJLIS MESYUARAT KERAJAAN NEGERI KEDAH',\n",
              "                                                     'BERNIAGA',\n",
              " ...\n",
              "                                                'DOKTOR SWASTA',\n",
              "  'TIM. KETUA MENTERI/MENTERI PEMBANGUNAN INFRASTRUKTUR, SABAH',\n",
              "                        'MENTERI PEMBANGUNAN LUAR BANDAR SABAH',\n",
              " 'PENGERUSI SABAH URBAN DEVELOPMENT CORPORATION SDN.BHD. (SUDC',\n",
              "                                          'KETUA MENTERI SABAH',\n",
              "                                          'PERUNDING PELABURAN',\n",
              "                   'PENGERUSI KORPORASI PEMBANGUNAN DESA (KPD)',\n",
              "                                                     'PELADANG',\n",
              "       'PENGERUSI PERBADANAN PEMBANGUNAN EKONOMI SABAH (SEDCO)',\n",
              "                                   'AHLI LEMBAGA PENGARAH LKIM']\n",
              "Length: 125, dtype: string"
            ]
          },
          "metadata": {},
          "execution_count": 8
        }
      ],
      "source": [
        "election['Pekerjaan'].unique()"
      ]
    },
    {
      "cell_type": "markdown",
      "metadata": {
        "id": "_0m5LkbVVJJ6"
      },
      "source": [
        "\n",
        "# Exploratory Analysis and Visualization\n",
        "\n"
      ]
    },
    {
      "cell_type": "markdown",
      "metadata": {
        "id": "RuPTpsGWVJJ7"
      },
      "source": [
        "Let's begin by importing`matplotlib.pyplot` and `seaborn`."
      ]
    },
    {
      "cell_type": "code",
      "source": [
        "pip install plotly==5.11.0"
      ],
      "metadata": {
        "colab": {
          "base_uri": "https://localhost:8080/"
        },
        "id": "V-BhcKSmbTQ_",
        "outputId": "4bd73d7e-4987-4f33-fd9f-963cbd5106a9"
      },
      "execution_count": 9,
      "outputs": [
        {
          "output_type": "stream",
          "name": "stdout",
          "text": [
            "Looking in indexes: https://pypi.org/simple, https://us-python.pkg.dev/colab-wheels/public/simple/\n",
            "Collecting plotly==5.11.0\n",
            "  Downloading plotly-5.11.0-py2.py3-none-any.whl (15.3 MB)\n",
            "\u001b[K     |████████████████████████████████| 15.3 MB 4.9 MB/s \n",
            "\u001b[?25hRequirement already satisfied: tenacity>=6.2.0 in /usr/local/lib/python3.8/dist-packages (from plotly==5.11.0) (8.1.0)\n",
            "Installing collected packages: plotly\n",
            "  Attempting uninstall: plotly\n",
            "    Found existing installation: plotly 5.5.0\n",
            "    Uninstalling plotly-5.5.0:\n",
            "      Successfully uninstalled plotly-5.5.0\n",
            "Successfully installed plotly-5.11.0\n"
          ]
        }
      ]
    },
    {
      "cell_type": "code",
      "execution_count": 10,
      "metadata": {
        "id": "zOTtwqAMVJJ7"
      },
      "outputs": [],
      "source": [
        "import plotly.express as px\n",
        "import seaborn as sns\n",
        "import matplotlib\n",
        "import matplotlib.pyplot as plt\n",
        "%matplotlib inline\n",
        "\n",
        "sns.set_style('darkgrid')\n",
        "matplotlib.rcParams['font.size'] = 14\n",
        "matplotlib.rcParams['figure.figsize'] = (20, 7)\n",
        "matplotlib.rcParams['figure.facecolor'] = '#00000000'"
      ]
    },
    {
      "cell_type": "markdown",
      "source": [
        "**Boxplot**"
      ],
      "metadata": {
        "id": "tOCPDcb5KzjZ"
      }
    },
    {
      "cell_type": "code",
      "source": [
        "sns.boxplot(x = election['Votes for Candidate'])"
      ],
      "metadata": {
        "colab": {
          "base_uri": "https://localhost:8080/",
          "height": 468
        },
        "id": "4mFefJT_KDbU",
        "outputId": "7428cac4-2cfc-41f7-99f4-1d837f61cabd"
      },
      "execution_count": 11,
      "outputs": [
        {
          "output_type": "execute_result",
          "data": {
            "text/plain": [
              "<matplotlib.axes._subplots.AxesSubplot at 0x7fc4ac173970>"
            ]
          },
          "metadata": {},
          "execution_count": 11
        },
        {
          "output_type": "display_data",
          "data": {
            "text/plain": [
              "<Figure size 1440x504 with 1 Axes>"
            ],
            "image/png": "[encoded data removed]"
          },
          "metadata": {
            "needs_background": "light"
          }
        }
      ]
    },
    {
      "cell_type": "markdown",
      "source": [
        "The figure above shows that there are too many outliers. The candidates have big range of votes for each of them."
      ],
      "metadata": {
        "id": "Vs1UR2W2LVfi"
      }
    },
    {
      "cell_type": "markdown",
      "source": [
        "**Histogram**"
      ],
      "metadata": {
        "id": "2DkN9CFQMWDD"
      }
    },
    {
      "cell_type": "code",
      "source": [
        "election.hist(bins=50, figsize=(20,12))\n",
        "plt.show()"
      ],
      "metadata": {
        "colab": {
          "base_uri": "https://localhost:8080/",
          "height": 724
        },
        "id": "_lAr1eetJcWS",
        "outputId": "650b51d3-f13a-4b9b-8d86-a9ee18a427a0"
      },
      "execution_count": 12,
      "outputs": [
        {
          "output_type": "display_data",
          "data": {
            "text/plain": [
              "<Figure size 1440x864 with 4 Axes>"
            ],
            "image/png": "[encoded data removed]"
          },
          "metadata": {
            "needs_background": "light"
          }
        }
      ]
    },
    {
      "cell_type": "markdown",
      "source": [
        "From histograms above, we can see that majority of the candidate did not get any votes at all. Other than that, other chart shows that the maximum number of votes cast is between 10,000 to 20,000 votes."
      ],
      "metadata": {
        "id": "Smttn9RFMqro"
      }
    },
    {
      "cell_type": "markdown",
      "source": [
        "**Heatmap**"
      ],
      "metadata": {
        "id": "O6f-aDcDNpsy"
      }
    },
    {
      "cell_type": "code",
      "source": [
        "plt.figure(figsize=(10,5))\n",
        "heatmap = election.corr()\n",
        "sns.heatmap(heatmap,cmap=\"BrBG\",annot=True)\n",
        "heatmap"
      ],
      "metadata": {
        "colab": {
          "base_uri": "https://localhost:8080/",
          "height": 455
        },
        "id": "PXLjqorhJuHs",
        "outputId": "e867957d-96cd-4108-ea4f-cf3ccaa821ed"
      },
      "execution_count": 13,
      "outputs": [
        {
          "output_type": "execute_result",
          "data": {
            "text/plain": [
              "                     Votes for Candidate  Total Votes Cast  Candidate Win\n",
              "Votes for Candidate             1.000000          0.514843       0.578981\n",
              "Total Votes Cast                0.514843          1.000000       0.006220\n",
              "Candidate Win                   0.578981          0.006220       1.000000"
            ],
            "text/html": [
              "\n",
              "  <div id=\"df-950d832d-9ee0-43b7-808f-433dadd41619\">\n",
              "    <div class=\"colab-df-container\">\n",
              "      <div>\n",
              "<style scoped>\n",
              "    .dataframe tbody tr th:only-of-type {\n",
              "        vertical-align: middle;\n",
              "    }\n",
              "\n",
              "    .dataframe tbody tr th {\n",
              "        vertical-align: top;\n",
              "    }\n",
              "\n",
              "    .dataframe thead th {\n",
              "        text-align: right;\n",
              "    }\n",
              "</style>\n",
              "<table border=\"1\" class=\"dataframe\">\n",
              "  <thead>\n",
              "    <tr style=\"text-align: right;\">\n",
              "      <th></th>\n",
              "      <th>Votes for Candidate</th>\n",
              "      <th>Total Votes Cast</th>\n",
              "      <th>Candidate Win</th>\n",
              "    </tr>\n",
              "  </thead>\n",
              "  <tbody>\n",
              "    <tr>\n",
              "      <th>Votes for Candidate</th>\n",
              "      <td>1.000000</td>\n",
              "      <td>0.514843</td>\n",
              "      <td>0.578981</td>\n",
              "    </tr>\n",
              "    <tr>\n",
              "      <th>Total Votes Cast</th>\n",
              "      <td>0.514843</td>\n",
              "      <td>1.000000</td>\n",
              "      <td>0.006220</td>\n",
              "    </tr>\n",
              "    <tr>\n",
              "      <th>Candidate Win</th>\n",
              "      <td>0.578981</td>\n",
              "      <td>0.006220</td>\n",
              "      <td>1.000000</td>\n",
              "    </tr>\n",
              "  </tbody>\n",
              "</table>\n",
              "</div>\n",
              "      <button class=\"colab-df-convert\" onclick=\"convertToInteractive('df-950d832d-9ee0-43b7-808f-433dadd41619')\"\n",
              "              title=\"Convert this dataframe to an interactive table.\"\n",
              "              style=\"display:none;\">\n",
              "        \n",
              "  <svg xmlns=\"http://www.w3.org/2000/svg\" height=\"24px\"viewBox=\"0 0 24 24\"\n",
              "       width=\"24px\">\n",
              "    <path d=\"M0 0h24v24H0V0z\" fill=\"none\"/>\n",
              "    <path d=\"M18.56 5.44l.94 2.06.94-2.06 2.06-.94-2.06-.94-.94-2.06-.94 2.06-2.06.94zm-11 1L8.5 8.5l.94-2.06 2.06-.94-2.06-.94L8.5 2.5l-.94 2.06-2.06.94zm10 10l.94 2.06.94-2.06 2.06-.94-2.06-.94-.94-2.06-.94 2.06-2.06.94z\"/><path d=\"M17.41 7.96l-1.37-1.37c-.4-.4-.92-.59-1.43-.59-.52 0-1.04.2-1.43.59L10.3 9.45l-7.72 7.72c-.78.78-.78 2.05 0 2.83L4 21.41c.39.39.9.59 1.41.59.51 0 1.02-.2 1.41-.59l7.78-7.78 2.81-2.81c.8-.78.8-2.07 0-2.86zM5.41 20L4 18.59l7.72-7.72 1.47 1.35L5.41 20z\"/>\n",
              "  </svg>\n",
              "      </button>\n",
              "      \n",
              "  <style>\n",
              "    .colab-df-container {\n",
              "      display:flex;\n",
              "      flex-wrap:wrap;\n",
              "      gap: 12px;\n",
              "    }\n",
              "\n",
              "    .colab-df-convert {\n",
              "      background-color: #E8F0FE;\n",
              "      border: none;\n",
              "      border-radius: 50%;\n",
              "      cursor: pointer;\n",
              "      display: none;\n",
              "      fill: #1967D2;\n",
              "      height: 32px;\n",
              "      padding: 0 0 0 0;\n",
              "      width: 32px;\n",
              "    }\n",
              "\n",
              "    .colab-df-convert:hover {\n",
              "      background-color: #E2EBFA;\n",
              "      box-shadow: 0px 1px 2px rgba(60, 64, 67, 0.3), 0px 1px 3px 1px rgba(60, 64, 67, 0.15);\n",
              "      fill: #174EA6;\n",
              "    }\n",
              "\n",
              "    [theme=dark] .colab-df-convert {\n",
              "      background-color: #3B4455;\n",
              "      fill: #D2E3FC;\n",
              "    }\n",
              "\n",
              "    [theme=dark] .colab-df-convert:hover {\n",
              "      background-color: #434B5C;\n",
              "      box-shadow: 0px 1px 3px 1px rgba(0, 0, 0, 0.15);\n",
              "      filter: drop-shadow(0px 1px 2px rgba(0, 0, 0, 0.3));\n",
              "      fill: #FFFFFF;\n",
              "    }\n",
              "  </style>\n",
              "\n",
              "      <script>\n",
              "        const buttonEl =\n",
              "          document.querySelector('#df-950d832d-9ee0-43b7-808f-433dadd41619 button.colab-df-convert');\n",
              "        buttonEl.style.display =\n",
              "          google.colab.kernel.accessAllowed ? 'block' : 'none';\n",
              "\n",
              "        async function convertToInteractive(key) {\n",
              "          const element = document.querySelector('#df-950d832d-9ee0-43b7-808f-433dadd41619');\n",
              "          const dataTable =\n",
              "            await google.colab.kernel.invokeFunction('convertToInteractive',\n",
              "                                                     [key], {});\n",
              "          if (!dataTable) return;\n",
              "\n",
              "          const docLinkHtml = 'Like what you see? Visit the ' +\n",
              "            '<a target=\"_blank\" href=https://colab.research.google.com/notebooks/data_table.ipynb>data table notebook</a>'\n",
              "            + ' to learn more about interactive tables.';\n",
              "          element.innerHTML = '';\n",
              "          dataTable['output_type'] = 'display_data';\n",
              "          await google.colab.output.renderOutput(dataTable, element);\n",
              "          const docLink = document.createElement('div');\n",
              "          docLink.innerHTML = docLinkHtml;\n",
              "          element.appendChild(docLink);\n",
              "        }\n",
              "      </script>\n",
              "    </div>\n",
              "  </div>\n",
              "  "
            ]
          },
          "metadata": {},
          "execution_count": 13
        },
        {
          "output_type": "display_data",
          "data": {
            "text/plain": [
              "<Figure size 720x360 with 2 Axes>"
            ],
            "image/png": "[encoded data removed]"
          },
          "metadata": {
            "needs_background": "light"
          }
        }
      ]
    },
    {
      "cell_type": "markdown",
      "source": [
        "**Descriptive Analysis**"
      ],
      "metadata": {
        "id": "PE8B0uGPOTz3"
      }
    },
    {
      "cell_type": "code",
      "source": [
        "election.describe()"
      ],
      "metadata": {
        "colab": {
          "base_uri": "https://localhost:8080/",
          "height": 300
        },
        "id": "mMg8VP1YKXxu",
        "outputId": "cdc10685-d59a-4ddb-8504-16f686fec5e4"
      },
      "execution_count": 14,
      "outputs": [
        {
          "output_type": "execute_result",
          "data": {
            "text/plain": [
              "       Votes for Candidate  Total Votes Cast  Candidate Win\n",
              "count          1645.000000       1646.000000    1646.000000\n",
              "mean           6347.214590      20578.614216       0.306804\n",
              "std            6347.866462      10374.399191       0.461308\n",
              "min              15.000000          0.000000       0.000000\n",
              "25%            1960.000000      13670.250000       0.000000\n",
              "50%            5196.000000      18139.000000       0.000000\n",
              "75%            8435.000000      23419.000000       1.000000\n",
              "max           55354.000000      62934.000000       1.000000"
            ],
            "text/html": [
              "\n",
              "  <div id=\"df-131cc478-68c9-4f9e-8ec6-dec10cc3d3cc\">\n",
              "    <div class=\"colab-df-container\">\n",
              "      <div>\n",
              "<style scoped>\n",
              "    .dataframe tbody tr th:only-of-type {\n",
              "        vertical-align: middle;\n",
              "    }\n",
              "\n",
              "    .dataframe tbody tr th {\n",
              "        vertical-align: top;\n",
              "    }\n",
              "\n",
              "    .dataframe thead th {\n",
              "        text-align: right;\n",
              "    }\n",
              "</style>\n",
              "<table border=\"1\" class=\"dataframe\">\n",
              "  <thead>\n",
              "    <tr style=\"text-align: right;\">\n",
              "      <th></th>\n",
              "      <th>Votes for Candidate</th>\n",
              "      <th>Total Votes Cast</th>\n",
              "      <th>Candidate Win</th>\n",
              "    </tr>\n",
              "  </thead>\n",
              "  <tbody>\n",
              "    <tr>\n",
              "      <th>count</th>\n",
              "      <td>1645.000000</td>\n",
              "      <td>1646.000000</td>\n",
              "      <td>1646.000000</td>\n",
              "    </tr>\n",
              "    <tr>\n",
              "      <th>mean</th>\n",
              "      <td>6347.214590</td>\n",
              "      <td>20578.614216</td>\n",
              "      <td>0.306804</td>\n",
              "    </tr>\n",
              "    <tr>\n",
              "      <th>std</th>\n",
              "      <td>6347.866462</td>\n",
              "      <td>10374.399191</td>\n",
              "      <td>0.461308</td>\n",
              "    </tr>\n",
              "    <tr>\n",
              "      <th>min</th>\n",
              "      <td>15.000000</td>\n",
              "      <td>0.000000</td>\n",
              "      <td>0.000000</td>\n",
              "    </tr>\n",
              "    <tr>\n",
              "      <th>25%</th>\n",
              "      <td>1960.000000</td>\n",
              "      <td>13670.250000</td>\n",
              "      <td>0.000000</td>\n",
              "    </tr>\n",
              "    <tr>\n",
              "      <th>50%</th>\n",
              "      <td>5196.000000</td>\n",
              "      <td>18139.000000</td>\n",
              "      <td>0.000000</td>\n",
              "    </tr>\n",
              "    <tr>\n",
              "      <th>75%</th>\n",
              "      <td>8435.000000</td>\n",
              "      <td>23419.000000</td>\n",
              "      <td>1.000000</td>\n",
              "    </tr>\n",
              "    <tr>\n",
              "      <th>max</th>\n",
              "      <td>55354.000000</td>\n",
              "      <td>62934.000000</td>\n",
              "      <td>1.000000</td>\n",
              "    </tr>\n",
              "  </tbody>\n",
              "</table>\n",
              "</div>\n",
              "      <button class=\"colab-df-convert\" onclick=\"convertToInteractive('df-131cc478-68c9-4f9e-8ec6-dec10cc3d3cc')\"\n",
              "              title=\"Convert this dataframe to an interactive table.\"\n",
              "              style=\"display:none;\">\n",
              "        \n",
              "  <svg xmlns=\"http://www.w3.org/2000/svg\" height=\"24px\"viewBox=\"0 0 24 24\"\n",
              "       width=\"24px\">\n",
              "    <path d=\"M0 0h24v24H0V0z\" fill=\"none\"/>\n",
              "    <path d=\"M18.56 5.44l.94 2.06.94-2.06 2.06-.94-2.06-.94-.94-2.06-.94 2.06-2.06.94zm-11 1L8.5 8.5l.94-2.06 2.06-.94-2.06-.94L8.5 2.5l-.94 2.06-2.06.94zm10 10l.94 2.06.94-2.06 2.06-.94-2.06-.94-.94-2.06-.94 2.06-2.06.94z\"/><path d=\"M17.41 7.96l-1.37-1.37c-.4-.4-.92-.59-1.43-.59-.52 0-1.04.2-1.43.59L10.3 9.45l-7.72 7.72c-.78.78-.78 2.05 0 2.83L4 21.41c.39.39.9.59 1.41.59.51 0 1.02-.2 1.41-.59l7.78-7.78 2.81-2.81c.8-.78.8-2.07 0-2.86zM5.41 20L4 18.59l7.72-7.72 1.47 1.35L5.41 20z\"/>\n",
              "  </svg>\n",
              "      </button>\n",
              "      \n",
              "  <style>\n",
              "    .colab-df-container {\n",
              "      display:flex;\n",
              "      flex-wrap:wrap;\n",
              "      gap: 12px;\n",
              "    }\n",
              "\n",
              "    .colab-df-convert {\n",
              "      background-color: #E8F0FE;\n",
              "      border: none;\n",
              "      border-radius: 50%;\n",
              "      cursor: pointer;\n",
              "      display: none;\n",
              "      fill: #1967D2;\n",
              "      height: 32px;\n",
              "      padding: 0 0 0 0;\n",
              "      width: 32px;\n",
              "    }\n",
              "\n",
              "    .colab-df-convert:hover {\n",
              "      background-color: #E2EBFA;\n",
              "      box-shadow: 0px 1px 2px rgba(60, 64, 67, 0.3), 0px 1px 3px 1px rgba(60, 64, 67, 0.15);\n",
              "      fill: #174EA6;\n",
              "    }\n",
              "\n",
              "    [theme=dark] .colab-df-convert {\n",
              "      background-color: #3B4455;\n",
              "      fill: #D2E3FC;\n",
              "    }\n",
              "\n",
              "    [theme=dark] .colab-df-convert:hover {\n",
              "      background-color: #434B5C;\n",
              "      box-shadow: 0px 1px 3px 1px rgba(0, 0, 0, 0.15);\n",
              "      filter: drop-shadow(0px 1px 2px rgba(0, 0, 0, 0.3));\n",
              "      fill: #FFFFFF;\n",
              "    }\n",
              "  </style>\n",
              "\n",
              "      <script>\n",
              "        const buttonEl =\n",
              "          document.querySelector('#df-131cc478-68c9-4f9e-8ec6-dec10cc3d3cc button.colab-df-convert');\n",
              "        buttonEl.style.display =\n",
              "          google.colab.kernel.accessAllowed ? 'block' : 'none';\n",
              "\n",
              "        async function convertToInteractive(key) {\n",
              "          const element = document.querySelector('#df-131cc478-68c9-4f9e-8ec6-dec10cc3d3cc');\n",
              "          const dataTable =\n",
              "            await google.colab.kernel.invokeFunction('convertToInteractive',\n",
              "                                                     [key], {});\n",
              "          if (!dataTable) return;\n",
              "\n",
              "          const docLinkHtml = 'Like what you see? Visit the ' +\n",
              "            '<a target=\"_blank\" href=https://colab.research.google.com/notebooks/data_table.ipynb>data table notebook</a>'\n",
              "            + ' to learn more about interactive tables.';\n",
              "          element.innerHTML = '';\n",
              "          dataTable['output_type'] = 'display_data';\n",
              "          await google.colab.output.renderOutput(dataTable, element);\n",
              "          const docLink = document.createElement('div');\n",
              "          docLink.innerHTML = docLinkHtml;\n",
              "          element.appendChild(docLink);\n",
              "        }\n",
              "      </script>\n",
              "    </div>\n",
              "  </div>\n",
              "  "
            ]
          },
          "metadata": {},
          "execution_count": 14
        }
      ]
    },
    {
      "cell_type": "code",
      "execution_count": 15,
      "metadata": {
        "id": "Zatc4Si_VJJ8",
        "colab": {
          "base_uri": "https://localhost:8080/"
        },
        "outputId": "7897c7c7-8a91-45b4-adbd-7da557bb4146"
      },
      "outputs": [
        {
          "output_type": "execute_result",
          "data": {
            "text/plain": [
              "State\n",
              "Johor              158\n",
              "Kedah              116\n",
              "Kelantan           141\n",
              "Melaka              85\n",
              "Negeri Sembilan    105\n",
              "Pahang             131\n",
              "Perak              171\n",
              "Perlis              46\n",
              "Pulau Pinang       155\n",
              "Sabah              252\n",
              "Selangor           190\n",
              "Terengganu          96\n",
              "Name: Seat Name, dtype: int64"
            ]
          },
          "metadata": {},
          "execution_count": 15
        }
      ],
      "source": [
        "seat = election.groupby('State')['Seat Name'].count()\n",
        "seat"
      ]
    },
    {
      "cell_type": "markdown",
      "metadata": {
        "id": "E0U3IWm8VJJ9"
      },
      "source": [
        "## **Asking and Answering Questions**\n",
        "\n"
      ]
    },
    {
      "cell_type": "markdown",
      "metadata": {
        "id": "7Lor5rHMVJJ9"
      },
      "source": [
        "#### Q1: Based on Figure 1, which states has the top voters?\n",
        "\n",
        "\n",
        "> Selangor because it has highest Total Vote Cast.\n",
        "\n",
        "\n"
      ]
    },
    {
      "cell_type": "code",
      "execution_count": 16,
      "metadata": {
        "id": "-Scf_lKnVJJ7",
        "colab": {
          "base_uri": "https://localhost:8080/",
          "height": 585
        },
        "outputId": "2e849cdd-42d7-4878-d9d9-96d3e767230a"
      },
      "outputs": [
        {
          "output_type": "execute_result",
          "data": {
            "text/plain": [
              "<matplotlib.axes._subplots.AxesSubplot at 0x7fc4987dcb20>"
            ]
          },
          "metadata": {},
          "execution_count": 16
        },
        {
          "output_type": "display_data",
          "data": {
            "text/plain": [
              "<Figure size 1440x504 with 1 Axes>"
            ],
            "image/png": "[encoded data removed]"
          },
          "metadata": {
            "needs_background": "light"
          }
        }
      ],
      "source": [
        "vote_state = election.groupby('State')['Total Votes Cast'].sum()\n",
        "vote_state.plot(kind = 'bar')"
      ]
    },
    {
      "cell_type": "markdown",
      "metadata": {
        "id": "c_REVnrhVJJ-"
      },
      "source": [
        "#### Q2: Based on Figure 2, which gender win the highest seats?\n",
        "\n",
        "\n",
        "> Male(L) as it has higher bar than Female(P) in MNG Status.\n",
        "\n",
        "\n"
      ]
    },
    {
      "cell_type": "code",
      "execution_count": 17,
      "metadata": {
        "id": "c7fugjWzVJJ7",
        "colab": {
          "base_uri": "https://localhost:8080/",
          "height": 542
        },
        "outputId": "bed01151-b39d-42ae-f1b1-d508a89aa7d7"
      },
      "outputs": [
        {
          "output_type": "display_data",
          "data": {
            "text/html": [
              "<html>\n",
              "<head><meta charset=\"utf-8\" /></head>\n",
              "<body>\n",
              "    <div>            <script src=\"https://cdnjs.cloudflare.com/ajax/libs/mathjax/2.7.5/MathJax.js?config=TeX-AMS-MML_SVG\"></script><script type=\"text/javascript\">if (window.MathJax && window.MathJax.Hub && window.MathJax.Hub.Config) {window.MathJax.Hub.Config({SVG: {font: \"STIX-Web\"}});}</script>                <script type=\"text/javascript\">window.PlotlyConfig = {MathJaxConfig: 'local'};</script>\n",
              "        <script src=\"https://cdn.plot.ly/plotly-2.16.1.min.js\"></script>                <div id=\"3cf73ab7-50b2-48d5-a744-3f8331a82557\" class=\"plotly-graph-div\" style=\"height:525px; width:100%;\"></div>            <script type=\"text/javascript\">                                    window.PLOTLYENV=window.PLOTLYENV || {};                                    if (document.getElementById(\"3cf73ab7-50b2-48d5-a744-3f8331a82557\")) {                    Plotly.newPlot(                        \"3cf73ab7-50b2-48d5-a744-3f8331a82557\",                        [{\"alignmentgroup\":\"True\",\"hovertemplate\":\"Gender=L<br>Status=%{x}<br>count=%{y}<extra></extra>\",\"legendgroup\":\"L\",\"marker\":{\"color\":\"#636efa\",\"pattern\":{\"shape\":\"\"}},\"name\":\"L\",\"offsetgroup\":\"L\",\"orientation\":\"v\",\"showlegend\":true,\"textposition\":\"auto\",\"x\":[\"MNG\",\"KLH\",\"KLH\",\"MNG\",\"HD\",\"MNG\",\"KLH\",\"MNG\",\"KLH\",\"MNG\",\"KLH\",\"HD\",\"MNG\",\"KLH\",\"MNG\",\"KLH\",\"HD\",\"MNG\",\"KLH\",\"MNG\",\"HD\",\"MNG\",\"KLH\",\"KLH\",\"MNG\",\"HD\",\"MNG\",\"KLH\",\"HD\",\"HD\",\"MNG\",\"KLH\",\"KLH\",\"HD\",\"HD\",\"MNG\",\"KLH\",\"KLH\",\"KLH\",\"KLH\",\"KLH\",\"KLH\",\"MNG\",\"MNG\",\"KLH\",\"KLH\",\"HD\",\"KLH\",\"MNG\",\"KLH\",\"KLH\",\"KLH\",\"KLH\",\"MNG\",\"KLH\",\"KLH\",\"KLH\",\"HD\",\"MNG\",\"HD\",\"KLH\",\"KLH\",\"MNG\",\"KLH\",\"MNG\",\"KLH\",\"HD\",\"HD\",\"MNG\",\"KLH\",\"KLH\",\"MNG\",\"KLH\",\"MNG\",\"HD\",\"KLH\",\"HD\",\"MNG\",\"MNG\",\"KLH\",\"KLH\",\"MNG\",\"KLH\",\"HD\",\"MNG\",\"HD\",\"KLH\",\"KLH\",\"MNG\",\"MNG\",\"KLH\",\"KLH\",\"MNG\",\"HD\",\"MNG\",\"KLH\",\"KLH\",\"MNG\",\"HD\",\"HD\",\"HD\",\"KLH\",\"HD\",\"KLH\",\"MNG\",\"KLH\",\"MNG\",\"MNG\",\"KLH\",\"MNG\",\"HD\",\"MNG\",\"KLH\",\"HD\",\"MNG\",\"KLH\",\"MNG\",\"HD\",\"KLH\",\"MNG\",\"HD\",\"KLH\",\"HD\",\"MNG\",\"KLH\",\"MNG\",\"KLH\",\"MNG\",\"KLH\",\"KLH\",\"KLH\",\"MNG\",\"HD\",\"KLH\",\"MNG\",\"HD\",\"KLH\",\"MNG\",\"KLH\",\"MNG\",\"KLH\",\"KLH\",\"HD\",\"MNG\",\"KLH\",\"KLH\",\"MNG\",\"KLH\",\"KLH\",\"KLH\",\"KLH\",\"MNG\",\"KLH\",\"MNG\",\"KLH\",\"KLH\",\"MNG\",\"KLH\",\"KLH\",\"KLH\",\"HD\",\"MNG\",\"KLH\",\"KLH\",\"MNG\",\"KLH\",\"KLH\",\"MNG\",\"KLH\",\"KLH\",\"MNG\",\"HD\",\"KLH\",\"MNG\",\"HD\",\"KLH\",\"KLH\",\"MNG\",\"KLH\",\"KLH\",\"MNG\",\"KLH\",\"KLH\",\"MNG\",\"KLH\",\"KLH\",\"MNG\",\"KLH\",\"KLH\",\"MNG\",\"KLH\",\"KLH\",\"MNG\",\"KLH\",\"KLH\",\"KLH\",\"MNG\",\"MNG\",\"KLH\",\"KLH\",\"HD\",\"KLH\",\"KLH\",\"MNG\",\"KLH\",\"KLH\",\"MNG\",\"KLH\",\"MNG\",\"KLH\",\"KLH\",\"KLH\",\"MNG\",\"KLH\",\"MNG\",\"KLH\",\"KLH\",\"MNG\",\"HD\",\"HD\",\"KLH\",\"MNG\",\"HD\",\"KLH\",\"MNG\",\"KLH\",\"KLH\",\"MNG\",\"KLH\",\"KLH\",\"MNG\",\"KLH\",\"KLH\",\"KLH\",\"KLH\",\"MNG\",\"KLH\",\"KLH\",\"MNG\",\"KLH\",\"KLH\",\"HD\",\"KLH\",\"KLH\",\"KLH\",\"MNG\",\"HD\",\"KLH\",\"MNG\",\"MNG\",\"HD\",\"KLH\",\"HD\",\"MNG\",\"KLH\",\"HD\",\"KLH\",\"MNG\",\"KLH\",\"MNG\",\"HD\",\"MNG\",\"HD\",\"KLH\",\"MNG\",\"KLH\",\"HD\",\"HD\",\"KLH\",\"KLH\",\"MNG\",\"HD\",\"HD\",\"MNG\",\"KLH\",\"KLH\",\"KLH\",\"HD\",\"MNG\",\"HD\",\"HD\",\"MNG\",\"KLH\",\"HD\",\"HD\",\"KLH\",\"MNG\",\"KLH\",\"HD\",\"MNG\",\"KLH\",\"MNG\",\"HD\",\"KLH\",\"MNG\",\"KLH\",\"KLH\",\"MNG\",\"KLH\",\"KLH\",\"MNG\",\"KLH\",\"MNG\",\"KLH\",\"HD\",\"KLH\",\"MNG\",\"HD\",\"HD\",\"KLH\",\"MNG\",\"HD\",\"MNG\",\"KLH\",\"KLH\",\"HD\",\"MNG\",\"MNG\",\"HD\",\"MNG\",\"KLH\",\"HD\",\"KLH\",\"MNG\",\"HD\",\"HD\",\"MNG\",\"KLH\",\"MNG\",\"HD\",\"KLH\",\"KLH\",\"HD\",\"MNG\",\"MNG\",\"KLH\",\"HD\",\"MNG\",\"HD\",\"KLH\",\"MNG\",\"HD\",\"KLH\",\"MNG\",\"HD\",\"KLH\",\"MNG\",\"KLH\",\"HD\",\"KLH\",\"HD\",\"MNG\",\"KLH\",\"MNG\",\"HD\",\"MNG\",\"KLH\",\"KLH\",\"KLH\",\"HD\",\"MNG\",\"HD\",\"MNG\",\"HD\",\"MNG\",\"KLH\",\"HD\",\"MNG\",\"KLH\",\"HD\",\"KLH\",\"MNG\",\"KLH\",\"MNG\",\"KLH\",\"MNG\",\"HD\",\"MNG\",\"KLH\",\"KLH\",\"MNG\",\"KLH\",\"KLH\",\"KLH\",\"KLH\",\"MNG\",\"KLH\",\"KLH\",\"MNG\",\"HD\",\"KLH\",\"KLH\",\"MNG\",\"KLH\",\"HD\",\"KLH\",\"MNG\",\"KLH\",\"MNG\",\"KLH\",\"HD\",\"MNG\",\"KLH\",\"MNG\",\"KLH\",\"KLH\",\"HD\",\"KLH\",\"MNG\",\"KLH\",\"MNG\",\"KLH\",\"MNG\",\"KLH\",\"HD\",\"HD\",\"KLH\",\"MNG\",\"KLH\",\"MNG\",\"HD\",\"KLH\",\"KLH\",\"MNG\",\"HD\",\"HD\",\"KLH\",\"MNG\",\"MNG\",\"KLH\",\"HD\",\"KLH\",\"HD\",\"KLH\",\"MNG\",\"HD\",\"KLH\",\"MNG\",\"KLH\",\"MNG\",\"KLH\",\"MNG\",\"KLH\",\"KLH\",\"MNG\",\"KLH\",\"KLH\",\"MNG\",\"KLH\",\"MNG\",\"KLH\",\"HD\",\"MNG\",\"KLH\",\"KLH\",\"HD\",\"MNG\",\"MNG\",\"KLH\",\"HD\",\"HD\",\"MNG\",\"KLH\",\"MNG\",\"HD\",\"KLH\",\"KLH\",\"MNG\",\"HD\",\"HD\",\"MNG\",\"KLH\",\"MNG\",\"HD\",\"KLH\",\"KLH\",\"MNG\",\"MNG\",\"KLH\",\"MNG\",\"HD\",\"KLH\",\"KLH\",\"MNG\",\"HD\",\"HD\",\"HD\",\"MNG\",\"MNG\",\"KLH\",\"HD\",\"KLH\",\"MNG\",\"HD\",\"HD\",\"HD\",\"KLH\",\"MNG\",\"MNG\",\"KLH\",\"HD\",\"HD\",\"MNG\",\"KLH\",\"KLH\",\"MNG\",\"MNG\",\"KLH\",\"MNG\",\"KLH\",\"KLH\",\"KLH\",\"KLH\",\"KLH\",\"HD\",\"KLH\",\"MNG\",\"MNG\",\"HD\",\"KLH\",\"KLH\",\"MNG\",\"HD\",\"MNG\",\"KLH\",\"MTB\",\"HD\",\"MNG\",\"KLH\",\"KLH\",\"MNG\",\"KLH\",\"MNG\",\"MNG\",\"KLH\",\"MNG\",\"HD\",\"KLH\",\"KLH\",\"MNG\",\"HD\",\"KLH\",\"KLH\",\"MNG\",\"HD\",\"MNG\",\"KLH\",\"HD\",\"MNG\",\"KLH\",\"MNG\",\"KLH\",\"HD\",\"KLH\",\"KLH\",\"HD\",\"MNG\",\"HD\",\"MNG\",\"KLH\",\"KLH\",\"MNG\",\"KLH\",\"KLH\",\"MNG\",\"HD\",\"MNG\",\"KLH\",\"KLH\",\"HD\",\"MNG\",\"KLH\",\"MNG\",\"KLH\",\"KLH\",\"MNG\",\"HD\",\"MNG\",\"KLH\",\"MNG\",\"KLH\",\"HD\",\"MNG\",\"KLH\",\"KLH\",\"MNG\",\"KLH\",\"KLH\",\"MNG\",\"MNG\",\"KLH\",\"KLH\",\"MNG\",\"KLH\",\"MNG\",\"KLH\",\"KLH\",\"KLH\",\"MNG\",\"KLH\",\"KLH\",\"MNG\",\"HD\",\"KLH\",\"MNG\",\"KLH\",\"HD\",\"MNG\",\"KLH\",\"MNG\",\"HD\",\"KLH\",\"HD\",\"MNG\",\"KLH\",\"MNG\",\"KLH\",\"KLH\",\"KLH\",\"MNG\",\"KLH\",\"KLH\",\"MNG\",\"KLH\",\"KLH\",\"MNG\",\"MNG\",\"KLH\",\"HD\",\"KLH\",\"HD\",\"KLH\",\"MNG\",\"KLH\",\"MNG\",\"HD\",\"KLH\",\"KLH\",\"MNG\",\"KLH\",\"MNG\",\"KLH\",\"HD\",\"KLH\",\"KLH\",\"KLH\",\"HD\",\"KLH\",\"KLH\",\"MNG\",\"KLH\",\"KLH\",\"MNG\",\"KLH\",\"KLH\",\"KLH\",\"MNG\",\"KLH\",\"HD\",\"KLH\",\"KLH\",\"MNG\",\"KLH\",\"HD\",\"KLH\",\"MNG\",\"MNG\",\"KLH\",\"MNG\",\"KLH\",\"KLH\",\"MNG\",\"KLH\",\"KLH\",\"HD\",\"KLH\",\"KLH\",\"KLH\",\"MNG\",\"KLH\",\"KLH\",\"MNG\",\"HD\",\"KLH\",\"HD\",\"HD\",\"HD\",\"MNG\",\"HD\",\"MNG\",\"HD\",\"HD\",\"KLH\",\"HD\",\"KLH\",\"MNG\",\"HD\",\"HD\",\"KLH\",\"KLH\",\"MNG\",\"MNG\",\"KLH\",\"KLH\",\"KLH\",\"KLH\",\"HD\",\"HD\",\"MNG\",\"HD\",\"HD\",\"KLH\",\"KLH\",\"HD\",\"HD\",\"HD\",\"KLH\",\"HD\",\"HD\",\"MNG\",\"MNG\",\"HD\",\"KLH\",\"HD\",\"HD\",\"HD\",\"HD\",\"MNG\",\"HD\",\"HD\",\"KLH\",\"MNG\",\"HD\",\"HD\",\"KLH\",\"MNG\",\"KLH\",\"MNG\",\"KLH\",\"KLH\",\"HD\",\"HD\",\"MNG\",\"KLH\",\"MNG\",\"KLH\",\"HD\",\"HD\",\"KLH\",\"HD\",\"MNG\",\"KLH\",\"HD\",\"MNG\",\"KLH\",\"HD\",\"MNG\",\"HD\",\"HD\",\"MNG\",\"HD\",\"HD\",\"HD\",\"MNG\",\"KLH\",\"MNG\",\"KLH\",\"HD\",\"HD\",\"HD\",\"HD\",\"KLH\",\"HD\",\"HD\",\"MNG\",\"KLH\",\"HD\",\"KLH\",\"HD\",\"MNG\",\"HD\",\"HD\",\"MNG\",\"KLH\",\"HD\",\"MNG\",\"HD\",\"HD\",\"HD\",\"HD\",\"KLH\",\"MNG\",\"MNG\",\"HD\",\"KLH\",\"MNG\",\"KLH\",\"HD\",\"HD\",\"MNG\",\"KLH\",\"MNG\",\"HD\",\"KLH\",\"MNG\",\"KLH\",\"KLH\",\"KLH\",\"KLH\",\"KLH\",\"MNG\",\"KLH\",\"MNG\",\"KLH\",\"KLH\",\"MNG\",\"KLH\",\"MNG\",\"KLH\",\"HD\",\"KLH\",\"MNG\",\"MNG\",\"KLH\",\"KLH\",\"MNG\",\"KLH\",\"KLH\",\"MNG\",\"KLH\",\"MNG\",\"KLH\",\"KLH\",\"KLH\",\"KLH\",\"MNG\",\"MNG\",\"KLH\",\"KLH\",\"KLH\",\"HD\",\"MNG\",\"KLH\",\"KLH\",\"KLH\",\"MNG\",\"KLH\",\"MNG\",\"KLH\",\"MNG\",\"KLH\",\"KLH\",\"MNG\",\"KLH\",\"MNG\",\"KLH\",\"KLH\",\"KLH\",\"MNG\",\"MNG\",\"KLH\",\"MNG\",\"KLH\",\"KLH\",\"KLH\",\"HD\",\"MNG\",\"HD\",\"KLH\",\"MNG\",\"KLH\",\"HD\",\"MNG\",\"KLH\",\"MNG\",\"KLH\",\"MNG\",\"MNG\",\"MNG\",\"HD\",\"HD\",\"MNG\",\"HD\",\"MNG\",\"KLH\",\"HD\",\"MNG\",\"KLH\",\"KLH\",\"KLH\",\"MNG\",\"KLH\",\"KLH\",\"MNG\",\"KLH\",\"MNG\",\"KLH\",\"MNG\",\"KLH\",\"KLH\",\"KLH\",\"KLH\",\"MNG\",\"KLH\",\"MNG\",\"MNG\",\"KLH\",\"KLH\",\"KLH\",\"KLH\",\"MNG\",\"KLH\",\"HD\",\"MNG\",\"KLH\",\"HD\",\"KLH\",\"HD\",\"MNG\",\"KLH\",\"MNG\",\"HD\",\"MNG\",\"KLH\",\"KLH\",\"KLH\",\"KLH\",\"MNG\",\"MNG\",\"KLH\",\"KLH\",\"MNG\",\"KLH\",\"KLH\",\"KLH\",\"KLH\",\"MNG\",\"KLH\",\"HD\",\"MNG\",\"MNG\",\"KLH\",\"KLH\",\"HD\",\"KLH\",\"MNG\",\"KLH\",\"MNG\",\"KLH\",\"KLH\",\"MNG\",\"KLH\",\"HD\",\"MNG\",\"KLH\",\"KLH\",\"MNG\",\"KLH\",\"KLH\",\"KLH\",\"KLH\",\"MNG\",\"KLH\",\"MNG\",\"KLH\",\"KLH\",\"MNG\",\"KLH\",\"KLH\",\"KLH\",\"KLH\",\"MNG\",\"KLH\",\"MNG\",\"KLH\",\"KLH\",\"KLH\",\"KLH\",\"MNG\",\"KLH\",\"KLH\",\"MNG\",\"KLH\",\"KLH\",\"MNG\",\"KLH\",\"KLH\",\"MNG\",\"KLH\",\"KLH\",\"MNG\",\"KLH\",\"KLH\",\"MNG\",\"KLH\",\"MNG\",\"KLH\",\"MNG\",\"KLH\",\"KLH\",\"KLH\",\"KLH\",\"KLH\",\"KLH\",\"KLH\",\"MNG\",\"KLH\",\"MNG\",\"KLH\",\"KLH\",\"KLH\",\"KLH\",\"KLH\",\"KLH\",\"HD\",\"KLH\",\"MNG\",\"KLH\",\"MNG\",\"KLH\",\"KLH\",\"KLH\",\"KLH\",\"MNG\",\"HD\",\"HD\",\"HD\",\"MNG\",\"KLH\",\"KLH\",\"KLH\",\"HD\",\"MNG\",\"HD\",\"HD\",\"KLH\",\"KLH\",\"MNG\",\"KLH\",\"MNG\",\"KLH\",\"KLH\",\"KLH\",\"MNG\",\"HD\",\"MNG\",\"HD\",\"KLH\",\"HD\",\"KLH\",\"MNG\",\"KLH\",\"KLH\",\"HD\",\"HD\",\"MNG\",\"KLH\",\"MNG\",\"KLH\",\"KLH\",\"KLH\",\"HD\",\"MNG\",\"MNG\",\"HD\",\"KLH\",\"MNG\",\"KLH\",\"KLH\",\"HD\",\"MNG\",\"HD\",\"MNG\",\"HD\",\"KLH\",\"MNG\",\"HD\",\"HD\",\"HD\",\"HD\",\"HD\",\"HD\",\"KLH\",\"MNG\",\"KLH\",\"MNG\",\"KLH\",\"MNG\",\"HD\",\"HD\",\"HD\",\"HD\",\"HD\",\"MNG\",\"KLH\",\"KLH\",\"KLH\",\"MNG\",\"MNG\",\"HD\",\"MNG\",\"KLH\",\"KLH\",\"KLH\",\"KLH\",\"HD\",\"KLH\",\"HD\",\"MNG\",\"KLH\",\"MNG\",\"KLH\",\"HD\",\"HD\",\"HD\",\"MNG\",\"KLH\",\"MNG\",\"HD\",\"HD\",\"HD\",\"MNG\",\"MNG\",\"HD\",\"HD\",\"HD\",\"HD\",\"HD\",\"KLH\",\"MNG\",\"KLH\",\"HD\",\"KLH\",\"MNG\",\"HD\",\"HD\",\"KLH\",\"KLH\",\"MNG\",\"MNG\",\"HD\",\"KLH\",\"MNG\",\"KLH\",\"MNG\",\"KLH\",\"MNG\",\"KLH\",\"KLH\",\"KLH\",\"HD\",\"MNG\",\"KLH\",\"MNG\",\"HD\",\"HD\",\"MNG\",\"KLH\",\"MNG\",\"HD\",\"KLH\",\"HD\",\"KLH\",\"MNG\",\"KLH\",\"HD\",\"MNG\",\"MNG\",\"KLH\",\"HD\",\"MNG\",\"HD\",\"KLH\",\"MNG\",\"HD\",\"KLH\",\"MNG\",\"HD\",\"KLH\",\"KLH\",\"HD\",\"MNG\",\"MNG\",\"KLH\",\"HD\",\"KLH\",\"MNG\",\"MNG\",\"KLH\",\"HD\",\"KLH\",\"MNG\",\"KLH\",\"KLH\",\"MNG\",\"KLH\",\"MNG\",\"HD\",\"KLH\",\"HD\",\"MNG\",\"KLH\",\"HD\",\"MNG\",\"HD\",\"KLH\",\"MNG\",\"HD\",\"KLH\",\"MNG\",\"MNG\",\"KLH\",\"HD\",\"MNG\",\"KLH\",\"HD\",\"KLH\",\"MNG\",\"KLH\",\"HD\",\"MNG\",\"KLH\",\"MNG\",\"HD\",\"KLH\",\"MNG\",\"HD\",\"MNG\",\"HD\",\"HD\",\"KLH\",\"MNG\",\"KLH\",\"HD\",\"MNG\",\"HD\",\"KLH\",\"MNG\",\"MNG\",\"KLH\",\"KLH\",\"KLH\",\"MNG\",\"HD\",\"HD\",\"KLH\",\"HD\",\"MNG\",\"HD\",\"HD\",\"HD\",\"MNG\",\"KLH\",\"HD\",\"MNG\",\"HD\",\"HD\",\"KLH\",\"KLH\",\"KLH\",\"HD\",\"HD\",\"KLH\",\"KLH\",\"HD\",\"HD\",\"MNG\",\"KLH\",\"HD\",\"KLH\",\"HD\",\"MNG\",\"MNG\",\"KLH\",\"HD\",\"HD\",\"MNG\",\"KLH\",\"KLH\",\"HD\",\"MNG\",\"KLH\",\"HD\",\"MNG\",\"HD\",\"KLH\",\"MNG\",\"HD\",\"HD\",\"HD\",\"KLH\",\"HD\",\"HD\",\"MNG\",\"HD\",\"MNG\",\"HD\",\"HD\",\"HD\",\"KLH\",\"HD\",\"HD\",\"HD\",\"MNG\",\"HD\",\"KLH\",\"HD\",\"MNG\",\"KLH\",\"MNG\",\"KLH\",\"HD\",\"KLH\",\"HD\",\"HD\",\"HD\",\"MNG\",\"KLH\",\"HD\",\"HD\",\"KLH\",\"HD\",\"MNG\",\"KLH\",\"MNG\",\"HD\",\"MNG\",\"HD\",\"HD\",\"KLH\",\"MNG\",\"KLH\",\"MNG\",\"HD\",\"KLH\",\"KLH\",\"MNG\",\"HD\",\"KLH\",\"MNG\",\"KLH\",\"HD\",\"HD\",\"KLH\",\"KLH\",\"HD\",\"MNG\",\"MNG\",\"HD\",\"HD\",\"KLH\",\"KLH\",\"MNG\",\"HD\",\"HD\",\"KLH\",\"HD\",\"HD\",\"MNG\",\"KLH\",\"KLH\",\"HD\",\"MNG\",\"KLH\",\"HD\",\"HD\",\"KLH\",\"HD\",\"KLH\",\"MNG\",\"HD\",\"KLH\",\"MNG\",\"HD\",\"HD\",\"HD\",\"KLH\",\"HD\",\"MNG\",\"MNG\",\"KLH\",\"HD\",\"KLH\",\"MNG\",\"KLH\",\"HD\",\"HD\",\"MNG\",\"HD\",\"KLH\",\"HD\",\"MNG\",\"HD\",\"HD\",\"HD\",\"KLH\",\"MNG\",\"HD\",\"KLH\",\"HD\",\"MNG\",\"HD\",\"KLH\",\"HD\",\"MNG\",\"KLH\",\"HD\",\"HD\",\"HD\",\"HD\",\"MNG\",\"KLH\",\"KLH\",\"MNG\",\"KLH\",\"MNG\",\"HD\",\"MNG\",\"HD\",\"HD\",\"HD\",\"HD\",\"KLH\",\"MNG\",\"HD\",\"HD\",\"HD\",\"MNG\",\"KLH\",\"HD\",\"MNG\",\"KLH\",\"HD\",\"HD\",\"MNG\",\"HD\",\"KLH\",\"HD\",\"MNG\",\"KLH\",\"HD\",\"HD\",\"HD\",\"KLH\",\"HD\",\"HD\",\"HD\",\"MNG\",\"HD\",\"KLH\",\"HD\",\"HD\",\"MNG\",\"HD\",\"KLH\",\"HD\",\"MNG\",\"HD\",\"KLH\",\"HD\",\"MNG\",\"HD\",\"HD\",\"HD\",\"HD\",\"KLH\",\"HD\",\"HD\",\"MNG\",\"KLH\"],\"xaxis\":\"x\",\"y\":[1,1,1,1,1,1,1,1,1,1,1,1,1,1,1,1,1,1,1,1,1,1,1,1,1,1,1,1,1,1,1,1,1,1,1,1,1,1,1,1,1,1,1,1,1,1,1,1,1,1,1,1,1,1,1,1,1,1,1,1,1,1,1,1,1,1,1,1,1,1,1,1,1,1,1,1,1,1,1,1,1,1,1,1,1,1,1,1,1,1,1,1,1,1,1,1,1,1,1,1,1,1,1,1,1,1,1,1,1,1,1,1,1,1,1,1,1,1,1,1,1,1,1,1,1,1,1,1,1,1,1,1,1,1,1,1,1,1,1,1,1,1,1,1,1,1,1,1,1,1,1,1,1,1,1,1,1,1,1,1,1,1,1,1,1,1,1,1,1,1,1,1,1,1,1,1,1,1,1,1,1,1,1,1,1,1,1,1,1,1,1,1,1,1,1,1,1,1,1,1,1,1,1,1,1,1,1,1,1,1,1,1,1,1,1,1,1,1,1,1,1,1,1,1,1,1,1,1,1,1,1,1,1,1,1,1,1,1,1,1,1,1,1,1,1,1,1,1,1,1,1,1,1,1,1,1,1,1,1,1,1,1,1,1,1,1,1,1,1,1,1,1,1,1,1,1,1,1,1,1,1,1,1,1,1,1,1,1,1,1,1,1,1,1,1,1,1,1,1,1,1,1,1,1,1,1,1,1,1,1,1,1,1,1,1,1,1,1,1,1,1,1,1,1,1,1,1,1,1,1,1,1,1,1,1,1,1,1,1,1,1,1,1,1,1,1,1,1,1,1,1,1,1,1,1,1,1,1,1,1,1,1,1,1,1,1,1,1,1,1,1,1,1,1,1,1,1,1,1,1,1,1,1,1,1,1,1,1,1,1,1,1,1,1,1,1,1,1,1,1,1,1,1,1,1,1,1,1,1,1,1,1,1,1,1,1,1,1,1,1,1,1,1,1,1,1,1,1,1,1,1,1,1,1,1,1,1,1,1,1,1,1,1,1,1,1,1,1,1,1,1,1,1,1,1,1,1,1,1,1,1,1,1,1,1,1,1,1,1,1,1,1,1,1,1,1,1,1,1,1,1,1,1,1,1,1,1,1,1,1,1,1,1,1,1,1,1,1,1,1,1,1,1,1,1,1,1,1,1,1,1,1,1,1,1,1,1,1,1,1,1,1,1,1,1,1,1,1,1,1,1,1,1,1,1,1,1,1,1,1,1,1,1,1,1,1,1,1,1,1,1,1,1,1,1,1,1,1,1,1,1,1,1,1,1,1,1,1,1,1,1,1,1,1,1,1,1,1,1,1,1,1,1,1,1,1,1,1,1,1,1,1,1,1,1,1,1,1,1,1,1,1,1,1,1,1,1,1,1,1,1,1,1,1,1,1,1,1,1,1,1,1,1,1,1,1,1,1,1,1,1,1,1,1,1,1,1,1,1,1,1,1,1,1,1,1,1,1,1,1,1,1,1,1,1,1,1,1,1,1,1,1,1,1,1,1,1,1,1,1,1,1,1,1,1,1,1,1,1,1,1,1,1,1,1,1,1,1,1,1,1,1,1,1,1,1,1,1,1,1,1,1,1,1,1,1,1,1,1,1,1,1,1,1,1,1,1,1,1,1,1,1,1,1,1,1,1,1,1,1,1,1,1,1,1,1,1,1,1,1,1,1,1,1,1,1,1,1,1,1,1,1,1,1,1,1,1,1,1,1,1,1,1,1,1,1,1,1,1,1,1,1,1,1,1,1,1,1,1,1,1,1,1,1,1,1,1,1,1,1,1,1,1,1,1,1,1,1,1,1,1,1,1,1,1,1,1,1,1,1,1,1,1,1,1,1,1,1,1,1,1,1,1,1,1,1,1,1,1,1,1,1,1,1,1,1,1,1,1,1,1,1,1,1,1,1,1,1,1,1,1,1,1,1,1,1,1,1,1,1,1,1,1,1,1,1,1,1,1,1,1,1,1,1,1,1,1,1,1,1,1,1,1,1,1,1,1,1,1,1,1,1,1,1,1,1,1,1,1,1,1,1,1,1,1,1,1,1,1,1,1,1,1,1,1,1,1,1,1,1,1,1,1,1,1,1,1,1,1,1,1,1,1,1,1,1,1,1,1,1,1,1,1,1,1,1,1,1,1,1,1,1,1,1,1,1,1,1,1,1,1,1,1,1,1,1,1,1,1,1,1,1,1,1,1,1,1,1,1,1,1,1,1,1,1,1,1,1,1,1,1,1,1,1,1,1,1,1,1,1,1,1,1,1,1,1,1,1,1,1,1,1,1,1,1,1,1,1,1,1,1,1,1,1,1,1,1,1,1,1,1,1,1,1,1,1,1,1,1,1,1,1,1,1,1,1,1,1,1,1,1,1,1,1,1,1,1,1,1,1,1,1,1,1,1,1,1,1,1,1,1,1,1,1,1,1,1,1,1,1,1,1,1,1,1,1,1,1,1,1,1,1,1,1,1,1,1,1,1,1,1,1,1,1,1,1,1,1,1,1,1,1,1,1,1,1,1,1,1,1,1,1,1,1,1,1,1,1,1,1,1,1,1,1,1,1,1,1,1,1,1,1,1,1,1,1,1,1,1,1,1,1,1,1,1,1,1,1,1,1,1,1,1,1,1,1,1,1,1,1,1,1,1,1,1,1,1,1,1,1,1,1,1,1,1,1,1,1,1,1,1,1,1,1,1,1,1,1,1,1,1,1,1,1,1,1,1,1,1,1,1,1,1,1,1,1,1,1,1,1,1,1,1,1,1,1,1,1,1,1,1,1,1,1,1,1,1,1,1,1,1,1,1,1,1,1,1,1,1,1,1,1,1,1,1,1,1,1,1,1,1,1,1,1,1,1,1,1,1,1,1,1,1,1,1,1,1,1,1,1,1,1,1,1,1,1,1,1,1,1,1,1,1,1,1,1,1,1,1,1,1,1,1,1,1,1,1,1,1,1,1,1,1,1,1,1,1,1,1,1,1,1,1,1,1,1,1,1,1,1,1,1,1,1,1,1,1,1,1,1,1,1,1,1,1,1,1,1,1,1,1,1,1,1,1,1,1,1,1,1,1,1,1,1,1,1,1,1,1,1,1,1,1,1,1,1,1,1,1,1,1,1,1,1,1,1,1,1,1,1,1,1,1,1,1,1,1,1,1,1,1,1,1,1,1,1,1,1,1,1,1,1,1,1,1,1,1,1,1,1,1,1,1,1,1,1,1,1,1,1,1,1,1,1,1,1,1,1,1,1,1,1,1,1,1,1,1,1,1,1,1,1,1,1,1,1,1,1,1,1,1,1,1,1,1,1,1,1,1,1],\"yaxis\":\"y\",\"type\":\"bar\"},{\"alignmentgroup\":\"True\",\"hovertemplate\":\"Gender=P<br>Status=%{x}<br>count=%{y}<extra></extra>\",\"legendgroup\":\"P\",\"marker\":{\"color\":\"#EF553B\",\"pattern\":{\"shape\":\"\"}},\"name\":\"P\",\"offsetgroup\":\"P\",\"orientation\":\"v\",\"showlegend\":true,\"textposition\":\"auto\",\"x\":[\"HD\",\"KLH\",\"MNG\",\"MNG\",\"MNG\",\"MNG\",\"MNG\",\"KLH\",\"MNG\",\"KLH\",\"KLH\",\"MNG\",\"KLH\",\"HD\",\"MNG\",\"HD\",\"MNG\",\"HD\",\"HD\",\"KLH\",\"KLH\",\"MNG\",\"KLH\",\"MNG\",\"KLH\",\"MNG\",\"KLH\",\"KLH\",\"MNG\",\"MNG\",\"HD\",\"KLH\",\"KLH\",\"KLH\",\"MNG\",\"KLH\",\"MNG\",\"KLH\",\"KLH\",\"HD\",\"KLH\",\"MNG\",\"KLH\",\"MNG\",\"HD\",\"KLH\",\"HD\",\"KLH\",\"MNG\",\"MNG\",\"KLH\",\"HD\",\"KLH\",\"HD\",\"HD\",\"KLH\",\"KLH\",\"KLH\",\"KLH\",\"KLH\",\"KLH\",\"KLH\",\"MNG\",\"HD\",\"KLH\",\"MNG\",\"MNG\",\"KLH\",\"MNG\",\"MNG\",\"MNG\",\"HD\",\"MNG\",\"MNG\",\"HD\",\"MNG\",\"HD\",\"HD\",\"KLH\",\"HD\",\"HD\",\"MNG\",\"HD\",\"HD\",\"HD\",\"MNG\",\"HD\",\"MNG\",\"KLH\",\"KLH\",\"KLH\",\"KLH\",\"KLH\",\"MNG\",\"KLH\",\"KLH\",\"MNG\",\"HD\",\"HD\",\"HD\",\"KLH\",\"MNG\",\"HD\",\"MNG\",\"KLH\",\"MNG\",\"KLH\",\"MNG\",\"KLH\",\"KLH\",\"KLH\",\"KLH\",\"MNG\",\"MNG\",\"KLH\",\"KLH\",\"MNG\",\"MNG\",\"KLH\",\"KLH\",\"MNG\",\"MNG\",\"MNG\",\"MNG\",\"HD\",\"KLH\",\"MNG\",\"HD\",\"KLH\",\"MNG\",\"HD\",\"MNG\",\"MNG\",\"MNG\",\"KLH\",\"KLH\",\"KLH\",\"MNG\",\"MNG\",\"HD\",\"KLH\",\"KLH\",\"HD\",\"KLH\",\"KLH\",\"KLH\",\"HD\",\"KLH\",\"HD\",\"KLH\",\"HD\",\"HD\",\"HD\",\"MNG\",\"HD\",\"MNG\",\"KLH\",\"KLH\",\"KLH\",\"MNG\",\"HD\",\"HD\",\"HD\",\"MNG\",\"MNG\",\"HD\",\"KLH\",\"HD\",\"HD\",\"KLH\",\"KLH\",\"MNG\",\"MNG\",\"KLH\",\"HD\",\"MNG\"],\"xaxis\":\"x2\",\"y\":[1,1,1,1,1,1,1,1,1,1,1,1,1,1,1,1,1,1,1,1,1,1,1,1,1,1,1,1,1,1,1,1,1,1,1,1,1,1,1,1,1,1,1,1,1,1,1,1,1,1,1,1,1,1,1,1,1,1,1,1,1,1,1,1,1,1,1,1,1,1,1,1,1,1,1,1,1,1,1,1,1,1,1,1,1,1,1,1,1,1,1,1,1,1,1,1,1,1,1,1,1,1,1,1,1,1,1,1,1,1,1,1,1,1,1,1,1,1,1,1,1,1,1,1,1,1,1,1,1,1,1,1,1,1,1,1,1,1,1,1,1,1,1,1,1,1,1,1,1,1,1,1,1,1,1,1,1,1,1,1,1,1,1,1,1,1,1,1,1,1,1,1,1,1,1,1],\"yaxis\":\"y2\",\"type\":\"bar\"}],                        {\"template\":{\"data\":{\"histogram2dcontour\":[{\"type\":\"histogram2dcontour\",\"colorbar\":{\"outlinewidth\":0,\"ticks\":\"\"},\"colorscale\":[[0.0,\"#0d0887\"],[0.1111111111111111,\"#46039f\"],[0.2222222222222222,\"#7201a8\"],[0.3333333333333333,\"#9c179e\"],[0.4444444444444444,\"#bd3786\"],[0.5555555555555556,\"#d8576b\"],[0.6666666666666666,\"#ed7953\"],[0.7777777777777778,\"#fb9f3a\"],[0.8888888888888888,\"#fdca26\"],[1.0,\"#f0f921\"]]}],\"choropleth\":[{\"type\":\"choropleth\",\"colorbar\":{\"outlinewidth\":0,\"ticks\":\"\"}}],\"histogram2d\":[{\"type\":\"histogram2d\",\"colorbar\":{\"outlinewidth\":0,\"ticks\":\"\"},\"colorscale\":[[0.0,\"#0d0887\"],[0.1111111111111111,\"#46039f\"],[0.2222222222222222,\"#7201a8\"],[0.3333333333333333,\"#9c179e\"],[0.4444444444444444,\"#bd3786\"],[0.5555555555555556,\"#d8576b\"],[0.6666666666666666,\"#ed7953\"],[0.7777777777777778,\"#fb9f3a\"],[0.8888888888888888,\"#fdca26\"],[1.0,\"#f0f921\"]]}],\"heatmap\":[{\"type\":\"heatmap\",\"colorbar\":{\"outlinewidth\":0,\"ticks\":\"\"},\"colorscale\":[[0.0,\"#0d0887\"],[0.1111111111111111,\"#46039f\"],[0.2222222222222222,\"#7201a8\"],[0.3333333333333333,\"#9c179e\"],[0.4444444444444444,\"#bd3786\"],[0.5555555555555556,\"#d8576b\"],[0.6666666666666666,\"#ed7953\"],[0.7777777777777778,\"#fb9f3a\"],[0.8888888888888888,\"#fdca26\"],[1.0,\"#f0f921\"]]}],\"heatmapgl\":[{\"type\":\"heatmapgl\",\"colorbar\":{\"outlinewidth\":0,\"ticks\":\"\"},\"colorscale\":[[0.0,\"#0d0887\"],[0.1111111111111111,\"#46039f\"],[0.2222222222222222,\"#7201a8\"],[0.3333333333333333,\"#9c179e\"],[0.4444444444444444,\"#bd3786\"],[0.5555555555555556,\"#d8576b\"],[0.6666666666666666,\"#ed7953\"],[0.7777777777777778,\"#fb9f3a\"],[0.8888888888888888,\"#fdca26\"],[1.0,\"#f0f921\"]]}],\"contourcarpet\":[{\"type\":\"contourcarpet\",\"colorbar\":{\"outlinewidth\":0,\"ticks\":\"\"}}],\"contour\":[{\"type\":\"contour\",\"colorbar\":{\"outlinewidth\":0,\"ticks\":\"\"},\"colorscale\":[[0.0,\"#0d0887\"],[0.1111111111111111,\"#46039f\"],[0.2222222222222222,\"#7201a8\"],[0.3333333333333333,\"#9c179e\"],[0.4444444444444444,\"#bd3786\"],[0.5555555555555556,\"#d8576b\"],[0.6666666666666666,\"#ed7953\"],[0.7777777777777778,\"#fb9f3a\"],[0.8888888888888888,\"#fdca26\"],[1.0,\"#f0f921\"]]}],\"surface\":[{\"type\":\"surface\",\"colorbar\":{\"outlinewidth\":0,\"ticks\":\"\"},\"colorscale\":[[0.0,\"#0d0887\"],[0.1111111111111111,\"#46039f\"],[0.2222222222222222,\"#7201a8\"],[0.3333333333333333,\"#9c179e\"],[0.4444444444444444,\"#bd3786\"],[0.5555555555555556,\"#d8576b\"],[0.6666666666666666,\"#ed7953\"],[0.7777777777777778,\"#fb9f3a\"],[0.8888888888888888,\"#fdca26\"],[1.0,\"#f0f921\"]]}],\"mesh3d\":[{\"type\":\"mesh3d\",\"colorbar\":{\"outlinewidth\":0,\"ticks\":\"\"}}],\"scatter\":[{\"fillpattern\":{\"fillmode\":\"overlay\",\"size\":10,\"solidity\":0.2},\"type\":\"scatter\"}],\"parcoords\":[{\"type\":\"parcoords\",\"line\":{\"colorbar\":{\"outlinewidth\":0,\"ticks\":\"\"}}}],\"scatterpolargl\":[{\"type\":\"scatterpolargl\",\"marker\":{\"colorbar\":{\"outlinewidth\":0,\"ticks\":\"\"}}}],\"bar\":[{\"error_x\":{\"color\":\"#2a3f5f\"},\"error_y\":{\"color\":\"#2a3f5f\"},\"marker\":{\"line\":{\"color\":\"#E5ECF6\",\"width\":0.5},\"pattern\":{\"fillmode\":\"overlay\",\"size\":10,\"solidity\":0.2}},\"type\":\"bar\"}],\"scattergeo\":[{\"type\":\"scattergeo\",\"marker\":{\"colorbar\":{\"outlinewidth\":0,\"ticks\":\"\"}}}],\"scatterpolar\":[{\"type\":\"scatterpolar\",\"marker\":{\"colorbar\":{\"outlinewidth\":0,\"ticks\":\"\"}}}],\"histogram\":[{\"marker\":{\"pattern\":{\"fillmode\":\"overlay\",\"size\":10,\"solidity\":0.2}},\"type\":\"histogram\"}],\"scattergl\":[{\"type\":\"scattergl\",\"marker\":{\"colorbar\":{\"outlinewidth\":0,\"ticks\":\"\"}}}],\"scatter3d\":[{\"type\":\"scatter3d\",\"line\":{\"colorbar\":{\"outlinewidth\":0,\"ticks\":\"\"}},\"marker\":{\"colorbar\":{\"outlinewidth\":0,\"ticks\":\"\"}}}],\"scattermapbox\":[{\"type\":\"scattermapbox\",\"marker\":{\"colorbar\":{\"outlinewidth\":0,\"ticks\":\"\"}}}],\"scatterternary\":[{\"type\":\"scatterternary\",\"marker\":{\"colorbar\":{\"outlinewidth\":0,\"ticks\":\"\"}}}],\"scattercarpet\":[{\"type\":\"scattercarpet\",\"marker\":{\"colorbar\":{\"outlinewidth\":0,\"ticks\":\"\"}}}],\"carpet\":[{\"aaxis\":{\"endlinecolor\":\"#2a3f5f\",\"gridcolor\":\"white\",\"linecolor\":\"white\",\"minorgridcolor\":\"white\",\"startlinecolor\":\"#2a3f5f\"},\"baxis\":{\"endlinecolor\":\"#2a3f5f\",\"gridcolor\":\"white\",\"linecolor\":\"white\",\"minorgridcolor\":\"white\",\"startlinecolor\":\"#2a3f5f\"},\"type\":\"carpet\"}],\"table\":[{\"cells\":{\"fill\":{\"color\":\"#EBF0F8\"},\"line\":{\"color\":\"white\"}},\"header\":{\"fill\":{\"color\":\"#C8D4E3\"},\"line\":{\"color\":\"white\"}},\"type\":\"table\"}],\"barpolar\":[{\"marker\":{\"line\":{\"color\":\"#E5ECF6\",\"width\":0.5},\"pattern\":{\"fillmode\":\"overlay\",\"size\":10,\"solidity\":0.2}},\"type\":\"barpolar\"}],\"pie\":[{\"automargin\":true,\"type\":\"pie\"}]},\"layout\":{\"autotypenumbers\":\"strict\",\"colorway\":[\"#636efa\",\"#EF553B\",\"#00cc96\",\"#ab63fa\",\"#FFA15A\",\"#19d3f3\",\"#FF6692\",\"#B6E880\",\"#FF97FF\",\"#FECB52\"],\"font\":{\"color\":\"#2a3f5f\"},\"hovermode\":\"closest\",\"hoverlabel\":{\"align\":\"left\"},\"paper_bgcolor\":\"white\",\"plot_bgcolor\":\"#E5ECF6\",\"polar\":{\"bgcolor\":\"#E5ECF6\",\"angularaxis\":{\"gridcolor\":\"white\",\"linecolor\":\"white\",\"ticks\":\"\"},\"radialaxis\":{\"gridcolor\":\"white\",\"linecolor\":\"white\",\"ticks\":\"\"}},\"ternary\":{\"bgcolor\":\"#E5ECF6\",\"aaxis\":{\"gridcolor\":\"white\",\"linecolor\":\"white\",\"ticks\":\"\"},\"baxis\":{\"gridcolor\":\"white\",\"linecolor\":\"white\",\"ticks\":\"\"},\"caxis\":{\"gridcolor\":\"white\",\"linecolor\":\"white\",\"ticks\":\"\"}},\"coloraxis\":{\"colorbar\":{\"outlinewidth\":0,\"ticks\":\"\"}},\"colorscale\":{\"sequential\":[[0.0,\"#0d0887\"],[0.1111111111111111,\"#46039f\"],[0.2222222222222222,\"#7201a8\"],[0.3333333333333333,\"#9c179e\"],[0.4444444444444444,\"#bd3786\"],[0.5555555555555556,\"#d8576b\"],[0.6666666666666666,\"#ed7953\"],[0.7777777777777778,\"#fb9f3a\"],[0.8888888888888888,\"#fdca26\"],[1.0,\"#f0f921\"]],\"sequentialminus\":[[0.0,\"#0d0887\"],[0.1111111111111111,\"#46039f\"],[0.2222222222222222,\"#7201a8\"],[0.3333333333333333,\"#9c179e\"],[0.4444444444444444,\"#bd3786\"],[0.5555555555555556,\"#d8576b\"],[0.6666666666666666,\"#ed7953\"],[0.7777777777777778,\"#fb9f3a\"],[0.8888888888888888,\"#fdca26\"],[1.0,\"#f0f921\"]],\"diverging\":[[0,\"#8e0152\"],[0.1,\"#c51b7d\"],[0.2,\"#de77ae\"],[0.3,\"#f1b6da\"],[0.4,\"#fde0ef\"],[0.5,\"#f7f7f7\"],[0.6,\"#e6f5d0\"],[0.7,\"#b8e186\"],[0.8,\"#7fbc41\"],[0.9,\"#4d9221\"],[1,\"#276419\"]]},\"xaxis\":{\"gridcolor\":\"white\",\"linecolor\":\"white\",\"ticks\":\"\",\"title\":{\"standoff\":15},\"zerolinecolor\":\"white\",\"automargin\":true,\"zerolinewidth\":2},\"yaxis\":{\"gridcolor\":\"white\",\"linecolor\":\"white\",\"ticks\":\"\",\"title\":{\"standoff\":15},\"zerolinecolor\":\"white\",\"automargin\":true,\"zerolinewidth\":2},\"scene\":{\"xaxis\":{\"backgroundcolor\":\"#E5ECF6\",\"gridcolor\":\"white\",\"linecolor\":\"white\",\"showbackground\":true,\"ticks\":\"\",\"zerolinecolor\":\"white\",\"gridwidth\":2},\"yaxis\":{\"backgroundcolor\":\"#E5ECF6\",\"gridcolor\":\"white\",\"linecolor\":\"white\",\"showbackground\":true,\"ticks\":\"\",\"zerolinecolor\":\"white\",\"gridwidth\":2},\"zaxis\":{\"backgroundcolor\":\"#E5ECF6\",\"gridcolor\":\"white\",\"linecolor\":\"white\",\"showbackground\":true,\"ticks\":\"\",\"zerolinecolor\":\"white\",\"gridwidth\":2}},\"shapedefaults\":{\"line\":{\"color\":\"#2a3f5f\"}},\"annotationdefaults\":{\"arrowcolor\":\"#2a3f5f\",\"arrowhead\":0,\"arrowwidth\":1},\"geo\":{\"bgcolor\":\"white\",\"landcolor\":\"#E5ECF6\",\"subunitcolor\":\"white\",\"showland\":true,\"showlakes\":true,\"lakecolor\":\"white\"},\"title\":{\"x\":0.05},\"mapbox\":{\"style\":\"light\"}}},\"xaxis\":{\"anchor\":\"y\",\"domain\":[0.0,0.49],\"title\":{\"text\":\"Status\"}},\"yaxis\":{\"anchor\":\"x\",\"domain\":[0.0,1.0],\"title\":{\"text\":\"count\"}},\"xaxis2\":{\"anchor\":\"y2\",\"domain\":[0.51,1.0],\"matches\":\"x\",\"title\":{\"text\":\"Status\"}},\"yaxis2\":{\"anchor\":\"x2\",\"domain\":[0.0,1.0],\"matches\":\"y\",\"showticklabels\":false},\"annotations\":[{\"font\":{},\"showarrow\":false,\"text\":\"Gender=L\",\"x\":0.245,\"xanchor\":\"center\",\"xref\":\"paper\",\"y\":1.0,\"yanchor\":\"bottom\",\"yref\":\"paper\"},{\"font\":{},\"showarrow\":false,\"text\":\"Gender=P\",\"x\":0.755,\"xanchor\":\"center\",\"xref\":\"paper\",\"y\":1.0,\"yanchor\":\"bottom\",\"yref\":\"paper\"}],\"legend\":{\"title\":{\"text\":\"Gender\"},\"tracegroupgap\":0},\"margin\":{\"t\":60},\"barmode\":\"relative\"},                        {\"responsive\": true}                    ).then(function(){\n",
              "                            \n",
              "var gd = document.getElementById('3cf73ab7-50b2-48d5-a744-3f8331a82557');\n",
              "var x = new MutationObserver(function (mutations, observer) {{\n",
              "        var display = window.getComputedStyle(gd).display;\n",
              "        if (!display || display === 'none') {{\n",
              "            console.log([gd, 'removed!']);\n",
              "            Plotly.purge(gd);\n",
              "            observer.disconnect();\n",
              "        }}\n",
              "}});\n",
              "\n",
              "// Listen for the removal of the full notebook cells\n",
              "var notebookContainer = gd.closest('#notebook-container');\n",
              "if (notebookContainer) {{\n",
              "    x.observe(notebookContainer, {childList: true});\n",
              "}}\n",
              "\n",
              "// Listen for the clearing of the current output cell\n",
              "var outputEl = gd.closest('.output');\n",
              "if (outputEl) {{\n",
              "    x.observe(outputEl, {childList: true});\n",
              "}}\n",
              "\n",
              "                        })                };                            </script>        </div>\n",
              "</body>\n",
              "</html>"
            ]
          },
          "metadata": {}
        }
      ],
      "source": [
        "fig = px.bar(election, x='Status', color='Gender', facet_col='Gender')\n",
        " \n",
        "fig.show()"
      ]
    },
    {
      "cell_type": "code",
      "execution_count": 18,
      "metadata": {
        "id": "pPnlFwy2VJJ7",
        "colab": {
          "base_uri": "https://localhost:8080/"
        },
        "outputId": "0d0ca520-75ff-43f9-8457-923b675e6b19"
      },
      "outputs": [
        {
          "output_type": "execute_result",
          "data": {
            "text/plain": [
              "<StringArray>\n",
              "['MNG', 'KLH', 'HD', 'MTB']\n",
              "Length: 4, dtype: string"
            ]
          },
          "metadata": {},
          "execution_count": 18
        }
      ],
      "source": [
        "election['Status'].unique() "
      ]
    },
    {
      "cell_type": "code",
      "source": [
        "election['Status'].value_counts()"
      ],
      "metadata": {
        "id": "ph_Kz6gNfp59",
        "colab": {
          "base_uri": "https://localhost:8080/"
        },
        "outputId": "d09988ff-7ce6-4a3a-a725-01be15346f21"
      },
      "execution_count": 19,
      "outputs": [
        {
          "output_type": "execute_result",
          "data": {
            "text/plain": [
              "KLH    699\n",
              "MNG    504\n",
              "HD     442\n",
              "MTB      1\n",
              "Name: Status, dtype: Int64"
            ]
          },
          "metadata": {},
          "execution_count": 19
        }
      ]
    },
    {
      "cell_type": "markdown",
      "metadata": {
        "id": "ya3o0SurVJJ-"
      },
      "source": [
        "#### Q3: TODO - ask a question here and answer it below"
      ]
    },
    {
      "cell_type": "code",
      "execution_count": 20,
      "metadata": {
        "id": "RSt7KlcfVJJ8",
        "outputId": "2162b0c8-1c88-446f-f03f-e5bb60be1ac5",
        "colab": {
          "base_uri": "https://localhost:8080/",
          "height": 306
        }
      },
      "outputs": [
        {
          "output_type": "execute_result",
          "data": {
            "text/plain": [
              "<seaborn.axisgrid.FacetGrid at 0x7fc497e50790>"
            ]
          },
          "metadata": {},
          "execution_count": 20
        },
        {
          "output_type": "display_data",
          "data": {
            "text/plain": [
              "<Figure size 1862.7x360 with 1 Axes>"
            ],
            "image/png": "[encoded data removed]"
          },
          "metadata": {
            "needs_background": "light"
          }
        }
      ],
      "source": [
        "sns.catplot(data=election, kind=\"violin\", x=\"State\", y=\"Total Votes Cast\", hue=\"Gender\", split=True, height=5, aspect=5)"
      ]
    },
    {
      "cell_type": "markdown",
      "metadata": {
        "id": "p4CcVO1TVJJ-"
      },
      "source": [
        "#### Q4: Which party won the highest seats?\n",
        "\n",
        "> PKR as it won the most seats which is 220 seats.\n",
        "\n"
      ]
    },
    {
      "cell_type": "code",
      "execution_count": 21,
      "metadata": {
        "id": "61sgf555VJJ8",
        "colab": {
          "base_uri": "https://localhost:8080/",
          "height": 542
        },
        "outputId": "7a6a474e-8753-4734-845c-4487f9f949ca"
      },
      "outputs": [
        {
          "output_type": "display_data",
          "data": {
            "text/html": [
              "<html>\n",
              "<head><meta charset=\"utf-8\" /></head>\n",
              "<body>\n",
              "    <div>            <script src=\"https://cdnjs.cloudflare.com/ajax/libs/mathjax/2.7.5/MathJax.js?config=TeX-AMS-MML_SVG\"></script><script type=\"text/javascript\">if (window.MathJax && window.MathJax.Hub && window.MathJax.Hub.Config) {window.MathJax.Hub.Config({SVG: {font: \"STIX-Web\"}});}</script>                <script type=\"text/javascript\">window.PlotlyConfig = {MathJaxConfig: 'local'};</script>\n",
              "        <script src=\"https://cdn.plot.ly/plotly-2.16.1.min.js\"></script>                <div id=\"34d7c693-a63e-4cb3-9892-974c1d651c6a\" class=\"plotly-graph-div\" style=\"height:525px; width:100%;\"></div>            <script type=\"text/javascript\">                                    window.PLOTLYENV=window.PLOTLYENV || {};                                    if (document.getElementById(\"34d7c693-a63e-4cb3-9892-974c1d651c6a\")) {                    Plotly.newPlot(                        \"34d7c693-a63e-4cb3-9892-974c1d651c6a\",                        [{\"domain\":{\"x\":[0.0,1.0],\"y\":[0.0,1.0]},\"hovertemplate\":\"<b>%{hovertext}</b><br><br>Candidate Win=%{value}<extra></extra>\",\"hovertext\":[\"AMANAH\",\"ANAKNEGERI\",\"BEBAS - BEG\",\"BEBAS - BUKU\",\"BEBAS - CAWAN\",\"BEBAS - CINCIN\",\"BEBAS - GAJAH\",\"BEBAS - IKAN\",\"BEBAS - JAM\",\"BEBAS - KAPAL TERBANG\",\"BEBAS - KERETA\",\"BEBAS - KUDA\",\"BEBAS - KUNCI\",\"BEBAS - MOTOSIKAL\",\"BEBAS - PEN\",\"BEBAS - POKOK\",\"BEBAS - RUMAH\",\"BEBAS - TRAKTOR\",\"BERJASA\",\"BN\",\"DAP\",\"HR\",\"MU\",\"PAP\",\"PAS\",\"PCM\",\"PCS\",\"PFP\",\"PKR\",\"PKS\",\"PPRS\",\"PRM\",\"PSM\",\"SAPP\",\"SOLIDARITI\",\"STAR\",\"USNO\",\"WARISAN\"],\"labels\":[0,0,0,0,0,0,0,0,0,0,0,0,0,0,0,0,0,0,0,166,6,0,0,0,90,0,0,0,220,0,0,0,0,0,2,0,0,21],\"legendgroup\":\"\",\"name\":\"\",\"showlegend\":true,\"values\":[0,0,0,0,0,0,0,0,0,0,0,0,0,0,0,0,0,0,0,166,6,0,0,0,90,0,0,0,220,0,0,0,0,0,2,0,0,21],\"type\":\"pie\"}],                        {\"template\":{\"data\":{\"histogram2dcontour\":[{\"type\":\"histogram2dcontour\",\"colorbar\":{\"outlinewidth\":0,\"ticks\":\"\"},\"colorscale\":[[0.0,\"#0d0887\"],[0.1111111111111111,\"#46039f\"],[0.2222222222222222,\"#7201a8\"],[0.3333333333333333,\"#9c179e\"],[0.4444444444444444,\"#bd3786\"],[0.5555555555555556,\"#d8576b\"],[0.6666666666666666,\"#ed7953\"],[0.7777777777777778,\"#fb9f3a\"],[0.8888888888888888,\"#fdca26\"],[1.0,\"#f0f921\"]]}],\"choropleth\":[{\"type\":\"choropleth\",\"colorbar\":{\"outlinewidth\":0,\"ticks\":\"\"}}],\"histogram2d\":[{\"type\":\"histogram2d\",\"colorbar\":{\"outlinewidth\":0,\"ticks\":\"\"},\"colorscale\":[[0.0,\"#0d0887\"],[0.1111111111111111,\"#46039f\"],[0.2222222222222222,\"#7201a8\"],[0.3333333333333333,\"#9c179e\"],[0.4444444444444444,\"#bd3786\"],[0.5555555555555556,\"#d8576b\"],[0.6666666666666666,\"#ed7953\"],[0.7777777777777778,\"#fb9f3a\"],[0.8888888888888888,\"#fdca26\"],[1.0,\"#f0f921\"]]}],\"heatmap\":[{\"type\":\"heatmap\",\"colorbar\":{\"outlinewidth\":0,\"ticks\":\"\"},\"colorscale\":[[0.0,\"#0d0887\"],[0.1111111111111111,\"#46039f\"],[0.2222222222222222,\"#7201a8\"],[0.3333333333333333,\"#9c179e\"],[0.4444444444444444,\"#bd3786\"],[0.5555555555555556,\"#d8576b\"],[0.6666666666666666,\"#ed7953\"],[0.7777777777777778,\"#fb9f3a\"],[0.8888888888888888,\"#fdca26\"],[1.0,\"#f0f921\"]]}],\"heatmapgl\":[{\"type\":\"heatmapgl\",\"colorbar\":{\"outlinewidth\":0,\"ticks\":\"\"},\"colorscale\":[[0.0,\"#0d0887\"],[0.1111111111111111,\"#46039f\"],[0.2222222222222222,\"#7201a8\"],[0.3333333333333333,\"#9c179e\"],[0.4444444444444444,\"#bd3786\"],[0.5555555555555556,\"#d8576b\"],[0.6666666666666666,\"#ed7953\"],[0.7777777777777778,\"#fb9f3a\"],[0.8888888888888888,\"#fdca26\"],[1.0,\"#f0f921\"]]}],\"contourcarpet\":[{\"type\":\"contourcarpet\",\"colorbar\":{\"outlinewidth\":0,\"ticks\":\"\"}}],\"contour\":[{\"type\":\"contour\",\"colorbar\":{\"outlinewidth\":0,\"ticks\":\"\"},\"colorscale\":[[0.0,\"#0d0887\"],[0.1111111111111111,\"#46039f\"],[0.2222222222222222,\"#7201a8\"],[0.3333333333333333,\"#9c179e\"],[0.4444444444444444,\"#bd3786\"],[0.5555555555555556,\"#d8576b\"],[0.6666666666666666,\"#ed7953\"],[0.7777777777777778,\"#fb9f3a\"],[0.8888888888888888,\"#fdca26\"],[1.0,\"#f0f921\"]]}],\"surface\":[{\"type\":\"surface\",\"colorbar\":{\"outlinewidth\":0,\"ticks\":\"\"},\"colorscale\":[[0.0,\"#0d0887\"],[0.1111111111111111,\"#46039f\"],[0.2222222222222222,\"#7201a8\"],[0.3333333333333333,\"#9c179e\"],[0.4444444444444444,\"#bd3786\"],[0.5555555555555556,\"#d8576b\"],[0.6666666666666666,\"#ed7953\"],[0.7777777777777778,\"#fb9f3a\"],[0.8888888888888888,\"#fdca26\"],[1.0,\"#f0f921\"]]}],\"mesh3d\":[{\"type\":\"mesh3d\",\"colorbar\":{\"outlinewidth\":0,\"ticks\":\"\"}}],\"scatter\":[{\"fillpattern\":{\"fillmode\":\"overlay\",\"size\":10,\"solidity\":0.2},\"type\":\"scatter\"}],\"parcoords\":[{\"type\":\"parcoords\",\"line\":{\"colorbar\":{\"outlinewidth\":0,\"ticks\":\"\"}}}],\"scatterpolargl\":[{\"type\":\"scatterpolargl\",\"marker\":{\"colorbar\":{\"outlinewidth\":0,\"ticks\":\"\"}}}],\"bar\":[{\"error_x\":{\"color\":\"#2a3f5f\"},\"error_y\":{\"color\":\"#2a3f5f\"},\"marker\":{\"line\":{\"color\":\"#E5ECF6\",\"width\":0.5},\"pattern\":{\"fillmode\":\"overlay\",\"size\":10,\"solidity\":0.2}},\"type\":\"bar\"}],\"scattergeo\":[{\"type\":\"scattergeo\",\"marker\":{\"colorbar\":{\"outlinewidth\":0,\"ticks\":\"\"}}}],\"scatterpolar\":[{\"type\":\"scatterpolar\",\"marker\":{\"colorbar\":{\"outlinewidth\":0,\"ticks\":\"\"}}}],\"histogram\":[{\"marker\":{\"pattern\":{\"fillmode\":\"overlay\",\"size\":10,\"solidity\":0.2}},\"type\":\"histogram\"}],\"scattergl\":[{\"type\":\"scattergl\",\"marker\":{\"colorbar\":{\"outlinewidth\":0,\"ticks\":\"\"}}}],\"scatter3d\":[{\"type\":\"scatter3d\",\"line\":{\"colorbar\":{\"outlinewidth\":0,\"ticks\":\"\"}},\"marker\":{\"colorbar\":{\"outlinewidth\":0,\"ticks\":\"\"}}}],\"scattermapbox\":[{\"type\":\"scattermapbox\",\"marker\":{\"colorbar\":{\"outlinewidth\":0,\"ticks\":\"\"}}}],\"scatterternary\":[{\"type\":\"scatterternary\",\"marker\":{\"colorbar\":{\"outlinewidth\":0,\"ticks\":\"\"}}}],\"scattercarpet\":[{\"type\":\"scattercarpet\",\"marker\":{\"colorbar\":{\"outlinewidth\":0,\"ticks\":\"\"}}}],\"carpet\":[{\"aaxis\":{\"endlinecolor\":\"#2a3f5f\",\"gridcolor\":\"white\",\"linecolor\":\"white\",\"minorgridcolor\":\"white\",\"startlinecolor\":\"#2a3f5f\"},\"baxis\":{\"endlinecolor\":\"#2a3f5f\",\"gridcolor\":\"white\",\"linecolor\":\"white\",\"minorgridcolor\":\"white\",\"startlinecolor\":\"#2a3f5f\"},\"type\":\"carpet\"}],\"table\":[{\"cells\":{\"fill\":{\"color\":\"#EBF0F8\"},\"line\":{\"color\":\"white\"}},\"header\":{\"fill\":{\"color\":\"#C8D4E3\"},\"line\":{\"color\":\"white\"}},\"type\":\"table\"}],\"barpolar\":[{\"marker\":{\"line\":{\"color\":\"#E5ECF6\",\"width\":0.5},\"pattern\":{\"fillmode\":\"overlay\",\"size\":10,\"solidity\":0.2}},\"type\":\"barpolar\"}],\"pie\":[{\"automargin\":true,\"type\":\"pie\"}]},\"layout\":{\"autotypenumbers\":\"strict\",\"colorway\":[\"#636efa\",\"#EF553B\",\"#00cc96\",\"#ab63fa\",\"#FFA15A\",\"#19d3f3\",\"#FF6692\",\"#B6E880\",\"#FF97FF\",\"#FECB52\"],\"font\":{\"color\":\"#2a3f5f\"},\"hovermode\":\"closest\",\"hoverlabel\":{\"align\":\"left\"},\"paper_bgcolor\":\"white\",\"plot_bgcolor\":\"#E5ECF6\",\"polar\":{\"bgcolor\":\"#E5ECF6\",\"angularaxis\":{\"gridcolor\":\"white\",\"linecolor\":\"white\",\"ticks\":\"\"},\"radialaxis\":{\"gridcolor\":\"white\",\"linecolor\":\"white\",\"ticks\":\"\"}},\"ternary\":{\"bgcolor\":\"#E5ECF6\",\"aaxis\":{\"gridcolor\":\"white\",\"linecolor\":\"white\",\"ticks\":\"\"},\"baxis\":{\"gridcolor\":\"white\",\"linecolor\":\"white\",\"ticks\":\"\"},\"caxis\":{\"gridcolor\":\"white\",\"linecolor\":\"white\",\"ticks\":\"\"}},\"coloraxis\":{\"colorbar\":{\"outlinewidth\":0,\"ticks\":\"\"}},\"colorscale\":{\"sequential\":[[0.0,\"#0d0887\"],[0.1111111111111111,\"#46039f\"],[0.2222222222222222,\"#7201a8\"],[0.3333333333333333,\"#9c179e\"],[0.4444444444444444,\"#bd3786\"],[0.5555555555555556,\"#d8576b\"],[0.6666666666666666,\"#ed7953\"],[0.7777777777777778,\"#fb9f3a\"],[0.8888888888888888,\"#fdca26\"],[1.0,\"#f0f921\"]],\"sequentialminus\":[[0.0,\"#0d0887\"],[0.1111111111111111,\"#46039f\"],[0.2222222222222222,\"#7201a8\"],[0.3333333333333333,\"#9c179e\"],[0.4444444444444444,\"#bd3786\"],[0.5555555555555556,\"#d8576b\"],[0.6666666666666666,\"#ed7953\"],[0.7777777777777778,\"#fb9f3a\"],[0.8888888888888888,\"#fdca26\"],[1.0,\"#f0f921\"]],\"diverging\":[[0,\"#8e0152\"],[0.1,\"#c51b7d\"],[0.2,\"#de77ae\"],[0.3,\"#f1b6da\"],[0.4,\"#fde0ef\"],[0.5,\"#f7f7f7\"],[0.6,\"#e6f5d0\"],[0.7,\"#b8e186\"],[0.8,\"#7fbc41\"],[0.9,\"#4d9221\"],[1,\"#276419\"]]},\"xaxis\":{\"gridcolor\":\"white\",\"linecolor\":\"white\",\"ticks\":\"\",\"title\":{\"standoff\":15},\"zerolinecolor\":\"white\",\"automargin\":true,\"zerolinewidth\":2},\"yaxis\":{\"gridcolor\":\"white\",\"linecolor\":\"white\",\"ticks\":\"\",\"title\":{\"standoff\":15},\"zerolinecolor\":\"white\",\"automargin\":true,\"zerolinewidth\":2},\"scene\":{\"xaxis\":{\"backgroundcolor\":\"#E5ECF6\",\"gridcolor\":\"white\",\"linecolor\":\"white\",\"showbackground\":true,\"ticks\":\"\",\"zerolinecolor\":\"white\",\"gridwidth\":2},\"yaxis\":{\"backgroundcolor\":\"#E5ECF6\",\"gridcolor\":\"white\",\"linecolor\":\"white\",\"showbackground\":true,\"ticks\":\"\",\"zerolinecolor\":\"white\",\"gridwidth\":2},\"zaxis\":{\"backgroundcolor\":\"#E5ECF6\",\"gridcolor\":\"white\",\"linecolor\":\"white\",\"showbackground\":true,\"ticks\":\"\",\"zerolinecolor\":\"white\",\"gridwidth\":2}},\"shapedefaults\":{\"line\":{\"color\":\"#2a3f5f\"}},\"annotationdefaults\":{\"arrowcolor\":\"#2a3f5f\",\"arrowhead\":0,\"arrowwidth\":1},\"geo\":{\"bgcolor\":\"white\",\"landcolor\":\"#E5ECF6\",\"subunitcolor\":\"white\",\"showland\":true,\"showlakes\":true,\"lakecolor\":\"white\"},\"title\":{\"x\":0.05},\"mapbox\":{\"style\":\"light\"}}},\"legend\":{\"tracegroupgap\":0},\"title\":{\"text\":\"Number of seats per party\"}},                        {\"responsive\": true}                    ).then(function(){\n",
              "                            \n",
              "var gd = document.getElementById('34d7c693-a63e-4cb3-9892-974c1d651c6a');\n",
              "var x = new MutationObserver(function (mutations, observer) {{\n",
              "        var display = window.getComputedStyle(gd).display;\n",
              "        if (!display || display === 'none') {{\n",
              "            console.log([gd, 'removed!']);\n",
              "            Plotly.purge(gd);\n",
              "            observer.disconnect();\n",
              "        }}\n",
              "}});\n",
              "\n",
              "// Listen for the removal of the full notebook cells\n",
              "var notebookContainer = gd.closest('#notebook-container');\n",
              "if (notebookContainer) {{\n",
              "    x.observe(notebookContainer, {childList: true});\n",
              "}}\n",
              "\n",
              "// Listen for the clearing of the current output cell\n",
              "var outputEl = gd.closest('.output');\n",
              "if (outputEl) {{\n",
              "    x.observe(outputEl, {childList: true});\n",
              "}}\n",
              "\n",
              "                        })                };                            </script>        </div>\n",
              "</body>\n",
              "</html>"
            ]
          },
          "metadata": {}
        }
      ],
      "source": [
        "total_chair = election.groupby(by='Candidate Party').sum([election['Candidate Win']==1])\n",
        "total_chair = total_chair.reset_index()\n",
        "\n",
        "fig = px.pie(total_chair, values=\"Candidate Win\", names=\"Candidate Win\", hover_name=\"Candidate Party\", labels=\"Candidate Party\", title=\"Number of seats per party\")\n",
        "fig.show()"
      ]
    },
    {
      "cell_type": "markdown",
      "metadata": {
        "id": "uFuZBqX1VJJ_"
      },
      "source": [
        "#### Q5: TODO - ask a question here and answer it below"
      ]
    },
    {
      "cell_type": "code",
      "source": [
        "sns.countplot(data=election, x=\"State\")"
      ],
      "metadata": {
        "colab": {
          "base_uri": "https://localhost:8080/",
          "height": 468
        },
        "id": "OsUNmf-KLSJo",
        "outputId": "cfe87343-e675-4029-aad0-9a3968621277"
      },
      "execution_count": 22,
      "outputs": [
        {
          "output_type": "execute_result",
          "data": {
            "text/plain": [
              "<matplotlib.axes._subplots.AxesSubplot at 0x7fc4964a1e80>"
            ]
          },
          "metadata": {},
          "execution_count": 22
        },
        {
          "output_type": "display_data",
          "data": {
            "text/plain": [
              "<Figure size 1440x504 with 1 Axes>"
            ],
            "image/png": "[encoded data removed]"
          },
          "metadata": {
            "needs_background": "light"
          }
        }
      ]
    },
    {
      "cell_type": "markdown",
      "metadata": {
        "id": "VxoO755tVJJ_"
      },
      "source": [
        "## Inferences and Conclusion\n",
        "\n",
        "**TODO** - Write some explanation here: a summary of all the inferences drawn from the analysis, and any conclusions you may have drawn by answering various questions."
      ]
    },
    {
      "cell_type": "code",
      "execution_count": null,
      "metadata": {
        "id": "kZ1_OOfbVJKA"
      },
      "outputs": [],
      "source": []
    },
    {
      "cell_type": "code",
      "execution_count": null,
      "metadata": {
        "id": "MtFJFEuMVJKA"
      },
      "outputs": [],
      "source": []
    },
    {
      "cell_type": "markdown",
      "metadata": {
        "id": "xfuc6sJgVJKA"
      },
      "source": [
        "## **References and Future Work**"
      ]
    },
    {
      "cell_type": "markdown",
      "source": [
        "\n",
        "[https://www.kaggle.com/datasets/terenctb/malaysia-ge14-election-results-parliament?select=Election-Results-2018+-+Total_Votes_by_Seat.csv](https://www.kaggle.com/datasets/terenctb/malaysia-ge14-election-results-parliament?select=Election-Results-2018+-+Total_Votes_by_Seat.csv)"
      ],
      "metadata": {
        "id": "_xG4PAkqPz-l"
      }
    },
    {
      "cell_type": "code",
      "source": [],
      "metadata": {
        "id": "w2yT9KM-P-4j"
      },
      "execution_count": null,
      "outputs": []
    }
  ],
  "metadata": {
    "kernelspec": {
      "display_name": "Python 3",
      "language": "python",
      "name": "python3"
    },
    "language_info": {
      "codemirror_mode": {
        "name": "ipython",
        "version": 3
      },
      "file_extension": ".py",
      "mimetype": "text/x-python",
      "name": "python",
      "nbconvert_exporter": "python",
      "pygments_lexer": "ipython3",
      "version": "3.8.5"
    },
    "colab": {
      "provenance": [],
      "include_colab_link": true
    }
  },
  "nbformat": 4,
  "nbformat_minor": 0
}